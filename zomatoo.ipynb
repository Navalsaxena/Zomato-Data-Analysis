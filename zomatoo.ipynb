{
  "cells": [
    {
      "cell_type": "markdown",
      "metadata": {
        "id": "view-in-github",
        "colab_type": "text"
      },
      "source": [
        "<a href=\"https://colab.research.google.com/github/Navalsaxena/Zomato-Data-Analysis/blob/main/zomatoo.ipynb\" target=\"_parent\"><img src=\"https://colab.research.google.com/assets/colab-badge.svg\" alt=\"Open In Colab\"/></a>"
      ]
    },
    {
      "cell_type": "code",
      "execution_count": null,
      "id": "3d951e73-069b-4b57-a956-ebc118e471ef",
      "metadata": {
        "id": "3d951e73-069b-4b57-a956-ebc118e471ef"
      },
      "outputs": [],
      "source": [
        "import pandas as pd\n",
        "import numpy as np\n",
        "import matplotlib.pyplot as plt\n",
        "import seaborn as sns\n",
        "from sklearn.model_selection import train_test_split\n",
        "from sklearn.preprocessing import OneHotEncoder\n",
        "from sklearn.preprocessing import MinMaxScaler\n",
        "plt.style.use(\"dark_background\")\n"
      ]
    },
    {
      "cell_type": "code",
      "execution_count": null,
      "id": "229ae0f5-f504-46bc-b89f-0e2ffe7d8e71",
      "metadata": {
        "id": "229ae0f5-f504-46bc-b89f-0e2ffe7d8e71"
      },
      "outputs": [],
      "source": [
        "zomatoB = pd.read_csv(\"zomato.csv\")"
      ]
    },
    {
      "cell_type": "code",
      "execution_count": null,
      "id": "4a10def4-97ad-48bf-9b37-4d9d41c4f35f",
      "metadata": {
        "id": "4a10def4-97ad-48bf-9b37-4d9d41c4f35f",
        "outputId": "3394053a-6930-4c96-9653-32db81cb156b"
      },
      "outputs": [
        {
          "data": {
            "text/html": [
              "<div>\n",
              "<style scoped>\n",
              "    .dataframe tbody tr th:only-of-type {\n",
              "        vertical-align: middle;\n",
              "    }\n",
              "\n",
              "    .dataframe tbody tr th {\n",
              "        vertical-align: top;\n",
              "    }\n",
              "\n",
              "    .dataframe thead th {\n",
              "        text-align: right;\n",
              "    }\n",
              "</style>\n",
              "<table border=\"1\" class=\"dataframe\">\n",
              "  <thead>\n",
              "    <tr style=\"text-align: right;\">\n",
              "      <th></th>\n",
              "      <th>url</th>\n",
              "      <th>address</th>\n",
              "      <th>name</th>\n",
              "      <th>online_order</th>\n",
              "      <th>book_table</th>\n",
              "      <th>rate</th>\n",
              "      <th>votes</th>\n",
              "      <th>phone</th>\n",
              "      <th>location</th>\n",
              "      <th>rest_type</th>\n",
              "      <th>dish_liked</th>\n",
              "      <th>cuisines</th>\n",
              "      <th>approx_cost(for two people)</th>\n",
              "      <th>reviews_list</th>\n",
              "      <th>menu_item</th>\n",
              "      <th>listed_in(type)</th>\n",
              "      <th>listed_in(city)</th>\n",
              "    </tr>\n",
              "  </thead>\n",
              "  <tbody>\n",
              "    <tr>\n",
              "      <th>0</th>\n",
              "      <td>https://www.zomato.com/bangalore/jalsa-banasha...</td>\n",
              "      <td>942, 21st Main Road, 2nd Stage, Banashankari, ...</td>\n",
              "      <td>Jalsa</td>\n",
              "      <td>Yes</td>\n",
              "      <td>Yes</td>\n",
              "      <td>4.1/5</td>\n",
              "      <td>775</td>\n",
              "      <td>080 42297555\\r\\n+91 9743772233</td>\n",
              "      <td>Banashankari</td>\n",
              "      <td>Casual Dining</td>\n",
              "      <td>Pasta, Lunch Buffet, Masala Papad, Paneer Laja...</td>\n",
              "      <td>North Indian, Mughlai, Chinese</td>\n",
              "      <td>800</td>\n",
              "      <td>[('Rated 4.0', 'RATED\\n  A beautiful place to ...</td>\n",
              "      <td>[]</td>\n",
              "      <td>Buffet</td>\n",
              "      <td>Banashankari</td>\n",
              "    </tr>\n",
              "    <tr>\n",
              "      <th>1</th>\n",
              "      <td>https://www.zomato.com/bangalore/spice-elephan...</td>\n",
              "      <td>2nd Floor, 80 Feet Road, Near Big Bazaar, 6th ...</td>\n",
              "      <td>Spice Elephant</td>\n",
              "      <td>Yes</td>\n",
              "      <td>No</td>\n",
              "      <td>4.1/5</td>\n",
              "      <td>787</td>\n",
              "      <td>080 41714161</td>\n",
              "      <td>Banashankari</td>\n",
              "      <td>Casual Dining</td>\n",
              "      <td>Momos, Lunch Buffet, Chocolate Nirvana, Thai G...</td>\n",
              "      <td>Chinese, North Indian, Thai</td>\n",
              "      <td>800</td>\n",
              "      <td>[('Rated 4.0', 'RATED\\n  Had been here for din...</td>\n",
              "      <td>[]</td>\n",
              "      <td>Buffet</td>\n",
              "      <td>Banashankari</td>\n",
              "    </tr>\n",
              "    <tr>\n",
              "      <th>2</th>\n",
              "      <td>https://www.zomato.com/SanchurroBangalore?cont...</td>\n",
              "      <td>1112, Next to KIMS Medical College, 17th Cross...</td>\n",
              "      <td>San Churro Cafe</td>\n",
              "      <td>Yes</td>\n",
              "      <td>No</td>\n",
              "      <td>3.8/5</td>\n",
              "      <td>918</td>\n",
              "      <td>+91 9663487993</td>\n",
              "      <td>Banashankari</td>\n",
              "      <td>Cafe, Casual Dining</td>\n",
              "      <td>Churros, Cannelloni, Minestrone Soup, Hot Choc...</td>\n",
              "      <td>Cafe, Mexican, Italian</td>\n",
              "      <td>800</td>\n",
              "      <td>[('Rated 3.0', \"RATED\\n  Ambience is not that ...</td>\n",
              "      <td>[]</td>\n",
              "      <td>Buffet</td>\n",
              "      <td>Banashankari</td>\n",
              "    </tr>\n",
              "    <tr>\n",
              "      <th>3</th>\n",
              "      <td>https://www.zomato.com/bangalore/addhuri-udupi...</td>\n",
              "      <td>1st Floor, Annakuteera, 3rd Stage, Banashankar...</td>\n",
              "      <td>Addhuri Udupi Bhojana</td>\n",
              "      <td>No</td>\n",
              "      <td>No</td>\n",
              "      <td>3.7/5</td>\n",
              "      <td>88</td>\n",
              "      <td>+91 9620009302</td>\n",
              "      <td>Banashankari</td>\n",
              "      <td>Quick Bites</td>\n",
              "      <td>Masala Dosa</td>\n",
              "      <td>South Indian, North Indian</td>\n",
              "      <td>300</td>\n",
              "      <td>[('Rated 4.0', \"RATED\\n  Great food and proper...</td>\n",
              "      <td>[]</td>\n",
              "      <td>Buffet</td>\n",
              "      <td>Banashankari</td>\n",
              "    </tr>\n",
              "    <tr>\n",
              "      <th>4</th>\n",
              "      <td>https://www.zomato.com/bangalore/grand-village...</td>\n",
              "      <td>10, 3rd Floor, Lakshmi Associates, Gandhi Baza...</td>\n",
              "      <td>Grand Village</td>\n",
              "      <td>No</td>\n",
              "      <td>No</td>\n",
              "      <td>3.8/5</td>\n",
              "      <td>166</td>\n",
              "      <td>+91 8026612447\\r\\n+91 9901210005</td>\n",
              "      <td>Basavanagudi</td>\n",
              "      <td>Casual Dining</td>\n",
              "      <td>Panipuri, Gol Gappe</td>\n",
              "      <td>North Indian, Rajasthani</td>\n",
              "      <td>600</td>\n",
              "      <td>[('Rated 4.0', 'RATED\\n  Very good restaurant ...</td>\n",
              "      <td>[]</td>\n",
              "      <td>Buffet</td>\n",
              "      <td>Banashankari</td>\n",
              "    </tr>\n",
              "  </tbody>\n",
              "</table>\n",
              "</div>"
            ],
            "text/plain": [
              "                                                 url  \\\n",
              "0  https://www.zomato.com/bangalore/jalsa-banasha...   \n",
              "1  https://www.zomato.com/bangalore/spice-elephan...   \n",
              "2  https://www.zomato.com/SanchurroBangalore?cont...   \n",
              "3  https://www.zomato.com/bangalore/addhuri-udupi...   \n",
              "4  https://www.zomato.com/bangalore/grand-village...   \n",
              "\n",
              "                                             address                   name  \\\n",
              "0  942, 21st Main Road, 2nd Stage, Banashankari, ...                  Jalsa   \n",
              "1  2nd Floor, 80 Feet Road, Near Big Bazaar, 6th ...         Spice Elephant   \n",
              "2  1112, Next to KIMS Medical College, 17th Cross...        San Churro Cafe   \n",
              "3  1st Floor, Annakuteera, 3rd Stage, Banashankar...  Addhuri Udupi Bhojana   \n",
              "4  10, 3rd Floor, Lakshmi Associates, Gandhi Baza...          Grand Village   \n",
              "\n",
              "  online_order book_table   rate  votes                             phone  \\\n",
              "0          Yes        Yes  4.1/5    775    080 42297555\\r\\n+91 9743772233   \n",
              "1          Yes         No  4.1/5    787                      080 41714161   \n",
              "2          Yes         No  3.8/5    918                    +91 9663487993   \n",
              "3           No         No  3.7/5     88                    +91 9620009302   \n",
              "4           No         No  3.8/5    166  +91 8026612447\\r\\n+91 9901210005   \n",
              "\n",
              "       location            rest_type  \\\n",
              "0  Banashankari        Casual Dining   \n",
              "1  Banashankari        Casual Dining   \n",
              "2  Banashankari  Cafe, Casual Dining   \n",
              "3  Banashankari          Quick Bites   \n",
              "4  Basavanagudi        Casual Dining   \n",
              "\n",
              "                                          dish_liked  \\\n",
              "0  Pasta, Lunch Buffet, Masala Papad, Paneer Laja...   \n",
              "1  Momos, Lunch Buffet, Chocolate Nirvana, Thai G...   \n",
              "2  Churros, Cannelloni, Minestrone Soup, Hot Choc...   \n",
              "3                                        Masala Dosa   \n",
              "4                                Panipuri, Gol Gappe   \n",
              "\n",
              "                         cuisines approx_cost(for two people)  \\\n",
              "0  North Indian, Mughlai, Chinese                         800   \n",
              "1     Chinese, North Indian, Thai                         800   \n",
              "2          Cafe, Mexican, Italian                         800   \n",
              "3      South Indian, North Indian                         300   \n",
              "4        North Indian, Rajasthani                         600   \n",
              "\n",
              "                                        reviews_list menu_item  \\\n",
              "0  [('Rated 4.0', 'RATED\\n  A beautiful place to ...        []   \n",
              "1  [('Rated 4.0', 'RATED\\n  Had been here for din...        []   \n",
              "2  [('Rated 3.0', \"RATED\\n  Ambience is not that ...        []   \n",
              "3  [('Rated 4.0', \"RATED\\n  Great food and proper...        []   \n",
              "4  [('Rated 4.0', 'RATED\\n  Very good restaurant ...        []   \n",
              "\n",
              "  listed_in(type) listed_in(city)  \n",
              "0          Buffet    Banashankari  \n",
              "1          Buffet    Banashankari  \n",
              "2          Buffet    Banashankari  \n",
              "3          Buffet    Banashankari  \n",
              "4          Buffet    Banashankari  "
            ]
          },
          "execution_count": 467,
          "metadata": {},
          "output_type": "execute_result"
        }
      ],
      "source": [
        "zomatoB.head()"
      ]
    },
    {
      "cell_type": "code",
      "execution_count": null,
      "id": "6d071f01-600c-463c-a1cf-58767ae53d5c",
      "metadata": {
        "id": "6d071f01-600c-463c-a1cf-58767ae53d5c",
        "outputId": "8c3bc43d-92c8-405c-9e47-9f96c444a80b"
      },
      "outputs": [
        {
          "data": {
            "text/plain": [
              "(51717, 17)"
            ]
          },
          "execution_count": 468,
          "metadata": {},
          "output_type": "execute_result"
        }
      ],
      "source": [
        "\n",
        "zomatoB.shape"
      ]
    },
    {
      "cell_type": "code",
      "execution_count": null,
      "id": "cf5337a7-0eda-4a57-b1d4-dc8f79788953",
      "metadata": {
        "id": "cf5337a7-0eda-4a57-b1d4-dc8f79788953",
        "outputId": "e99fdfd2-d0ba-4619-9b34-b3e4babd82d2"
      },
      "outputs": [
        {
          "data": {
            "text/html": [
              "<div>\n",
              "<style scoped>\n",
              "    .dataframe tbody tr th:only-of-type {\n",
              "        vertical-align: middle;\n",
              "    }\n",
              "\n",
              "    .dataframe tbody tr th {\n",
              "        vertical-align: top;\n",
              "    }\n",
              "\n",
              "    .dataframe thead th {\n",
              "        text-align: right;\n",
              "    }\n",
              "</style>\n",
              "<table border=\"1\" class=\"dataframe\">\n",
              "  <thead>\n",
              "    <tr style=\"text-align: right;\">\n",
              "      <th></th>\n",
              "      <th>url</th>\n",
              "      <th>address</th>\n",
              "      <th>name</th>\n",
              "      <th>online_order</th>\n",
              "      <th>book_table</th>\n",
              "      <th>rate</th>\n",
              "      <th>votes</th>\n",
              "      <th>phone</th>\n",
              "      <th>location</th>\n",
              "      <th>rest_type</th>\n",
              "      <th>dish_liked</th>\n",
              "      <th>cuisines</th>\n",
              "      <th>approx_cost(for two people)</th>\n",
              "      <th>reviews_list</th>\n",
              "      <th>menu_item</th>\n",
              "      <th>listed_in(type)</th>\n",
              "      <th>listed_in(city)</th>\n",
              "    </tr>\n",
              "  </thead>\n",
              "  <tbody>\n",
              "    <tr>\n",
              "      <th>22181</th>\n",
              "      <td>https://www.zomato.com/bangalore/natural-mumba...</td>\n",
              "      <td>1-90/18, 100 Feet Ring Road, 9th Main Road, 1s...</td>\n",
              "      <td>Natural Mumbai Kulfi</td>\n",
              "      <td>Yes</td>\n",
              "      <td>No</td>\n",
              "      <td>3.5/5</td>\n",
              "      <td>8</td>\n",
              "      <td>+91 8296375974</td>\n",
              "      <td>BTM</td>\n",
              "      <td>Dessert Parlor</td>\n",
              "      <td>NaN</td>\n",
              "      <td>Ice Cream</td>\n",
              "      <td>130</td>\n",
              "      <td>[('Rated 5.0', 'RATED\\n  Absolutely love the v...</td>\n",
              "      <td>['Traditional Malai Stick Kulfi', 'Special Kes...</td>\n",
              "      <td>Delivery</td>\n",
              "      <td>JP Nagar</td>\n",
              "    </tr>\n",
              "  </tbody>\n",
              "</table>\n",
              "</div>"
            ],
            "text/plain": [
              "                                                     url  \\\n",
              "22181  https://www.zomato.com/bangalore/natural-mumba...   \n",
              "\n",
              "                                                 address  \\\n",
              "22181  1-90/18, 100 Feet Ring Road, 9th Main Road, 1s...   \n",
              "\n",
              "                       name online_order book_table   rate  votes  \\\n",
              "22181  Natural Mumbai Kulfi          Yes         No  3.5/5      8   \n",
              "\n",
              "                phone location       rest_type dish_liked   cuisines  \\\n",
              "22181  +91 8296375974      BTM  Dessert Parlor        NaN  Ice Cream   \n",
              "\n",
              "      approx_cost(for two people)  \\\n",
              "22181                         130   \n",
              "\n",
              "                                            reviews_list  \\\n",
              "22181  [('Rated 5.0', 'RATED\\n  Absolutely love the v...   \n",
              "\n",
              "                                               menu_item listed_in(type)  \\\n",
              "22181  ['Traditional Malai Stick Kulfi', 'Special Kes...        Delivery   \n",
              "\n",
              "      listed_in(city)  \n",
              "22181        JP Nagar  "
            ]
          },
          "execution_count": 469,
          "metadata": {},
          "output_type": "execute_result"
        }
      ],
      "source": [
        "zomatoB.sample()"
      ]
    },
    {
      "cell_type": "code",
      "execution_count": null,
      "id": "faf008c8-c65d-4880-b253-89bcf6ff7f61",
      "metadata": {
        "id": "faf008c8-c65d-4880-b253-89bcf6ff7f61",
        "outputId": "825ef6ea-1e7a-4e2c-ca04-0d6036a88c4d"
      },
      "outputs": [
        {
          "name": "stdout",
          "output_type": "stream",
          "text": [
            "<class 'pandas.core.frame.DataFrame'>\n",
            "RangeIndex: 51717 entries, 0 to 51716\n",
            "Data columns (total 17 columns):\n",
            " #   Column                       Non-Null Count  Dtype \n",
            "---  ------                       --------------  ----- \n",
            " 0   url                          51717 non-null  object\n",
            " 1   address                      51717 non-null  object\n",
            " 2   name                         51717 non-null  object\n",
            " 3   online_order                 51717 non-null  object\n",
            " 4   book_table                   51717 non-null  object\n",
            " 5   rate                         43942 non-null  object\n",
            " 6   votes                        51717 non-null  int64 \n",
            " 7   phone                        50509 non-null  object\n",
            " 8   location                     51696 non-null  object\n",
            " 9   rest_type                    51490 non-null  object\n",
            " 10  dish_liked                   23639 non-null  object\n",
            " 11  cuisines                     51672 non-null  object\n",
            " 12  approx_cost(for two people)  51371 non-null  object\n",
            " 13  reviews_list                 51717 non-null  object\n",
            " 14  menu_item                    51717 non-null  object\n",
            " 15  listed_in(type)              51717 non-null  object\n",
            " 16  listed_in(city)              51717 non-null  object\n",
            "dtypes: int64(1), object(16)\n",
            "memory usage: 6.7+ MB\n"
          ]
        }
      ],
      "source": [
        "zomatoB.info()"
      ]
    },
    {
      "cell_type": "code",
      "execution_count": null,
      "id": "30251402-6b0c-429a-ac18-75ef981c3d4e",
      "metadata": {
        "id": "30251402-6b0c-429a-ac18-75ef981c3d4e",
        "outputId": "9b699767-256a-4153-b33d-6b9600d81f1d"
      },
      "outputs": [
        {
          "data": {
            "text/plain": [
              "<bound method NDFrame.describe of                                                      url  \\\n",
              "0      https://www.zomato.com/bangalore/jalsa-banasha...   \n",
              "1      https://www.zomato.com/bangalore/spice-elephan...   \n",
              "2      https://www.zomato.com/SanchurroBangalore?cont...   \n",
              "3      https://www.zomato.com/bangalore/addhuri-udupi...   \n",
              "4      https://www.zomato.com/bangalore/grand-village...   \n",
              "...                                                  ...   \n",
              "51712  https://www.zomato.com/bangalore/best-brews-fo...   \n",
              "51713  https://www.zomato.com/bangalore/vinod-bar-and...   \n",
              "51714  https://www.zomato.com/bangalore/plunge-sherat...   \n",
              "51715  https://www.zomato.com/bangalore/chime-sherato...   \n",
              "51716  https://www.zomato.com/bangalore/the-nest-the-...   \n",
              "\n",
              "                                                 address  \\\n",
              "0      942, 21st Main Road, 2nd Stage, Banashankari, ...   \n",
              "1      2nd Floor, 80 Feet Road, Near Big Bazaar, 6th ...   \n",
              "2      1112, Next to KIMS Medical College, 17th Cross...   \n",
              "3      1st Floor, Annakuteera, 3rd Stage, Banashankar...   \n",
              "4      10, 3rd Floor, Lakshmi Associates, Gandhi Baza...   \n",
              "...                                                  ...   \n",
              "51712  Four Points by Sheraton Bengaluru, 43/3, White...   \n",
              "51713  Number 10, Garudachar Palya, Mahadevapura, Whi...   \n",
              "51714  Sheraton Grand Bengaluru Whitefield Hotel & Co...   \n",
              "51715  Sheraton Grand Bengaluru Whitefield Hotel & Co...   \n",
              "51716  ITPL Main Road, KIADB Export Promotion Industr...   \n",
              "\n",
              "                                                    name online_order  \\\n",
              "0                                                  Jalsa          Yes   \n",
              "1                                         Spice Elephant          Yes   \n",
              "2                                        San Churro Cafe          Yes   \n",
              "3                                  Addhuri Udupi Bhojana           No   \n",
              "4                                          Grand Village           No   \n",
              "...                                                  ...          ...   \n",
              "51712  Best Brews - Four Points by Sheraton Bengaluru...           No   \n",
              "51713                           Vinod Bar And Restaurant           No   \n",
              "51714  Plunge - Sheraton Grand Bengaluru Whitefield H...           No   \n",
              "51715  Chime - Sheraton Grand Bengaluru Whitefield Ho...           No   \n",
              "51716                       The Nest - The Den Bengaluru           No   \n",
              "\n",
              "      book_table    rate  votes                             phone  \\\n",
              "0            Yes   4.1/5    775    080 42297555\\r\\n+91 9743772233   \n",
              "1             No   4.1/5    787                      080 41714161   \n",
              "2             No   3.8/5    918                    +91 9663487993   \n",
              "3             No   3.7/5     88                    +91 9620009302   \n",
              "4             No   3.8/5    166  +91 8026612447\\r\\n+91 9901210005   \n",
              "...          ...     ...    ...                               ...   \n",
              "51712         No  3.6 /5     27                      080 40301477   \n",
              "51713         No     NaN      0                    +91 8197675843   \n",
              "51714         No     NaN      0                               NaN   \n",
              "51715        Yes  4.3 /5    236                      080 49652769   \n",
              "51716         No  3.4 /5     13                    +91 8071117272   \n",
              "\n",
              "                         location            rest_type  \\\n",
              "0                    Banashankari        Casual Dining   \n",
              "1                    Banashankari        Casual Dining   \n",
              "2                    Banashankari  Cafe, Casual Dining   \n",
              "3                    Banashankari          Quick Bites   \n",
              "4                    Basavanagudi        Casual Dining   \n",
              "...                           ...                  ...   \n",
              "51712                  Whitefield                  Bar   \n",
              "51713                  Whitefield                  Bar   \n",
              "51714                  Whitefield                  Bar   \n",
              "51715  ITPL Main Road, Whitefield                  Bar   \n",
              "51716  ITPL Main Road, Whitefield   Bar, Casual Dining   \n",
              "\n",
              "                                              dish_liked  \\\n",
              "0      Pasta, Lunch Buffet, Masala Papad, Paneer Laja...   \n",
              "1      Momos, Lunch Buffet, Chocolate Nirvana, Thai G...   \n",
              "2      Churros, Cannelloni, Minestrone Soup, Hot Choc...   \n",
              "3                                            Masala Dosa   \n",
              "4                                    Panipuri, Gol Gappe   \n",
              "...                                                  ...   \n",
              "51712                                                NaN   \n",
              "51713                                                NaN   \n",
              "51714                                                NaN   \n",
              "51715                       Cocktails, Pizza, Buttermilk   \n",
              "51716                                                NaN   \n",
              "\n",
              "                                     cuisines approx_cost(for two people)  \\\n",
              "0              North Indian, Mughlai, Chinese                         800   \n",
              "1                 Chinese, North Indian, Thai                         800   \n",
              "2                      Cafe, Mexican, Italian                         800   \n",
              "3                  South Indian, North Indian                         300   \n",
              "4                    North Indian, Rajasthani                         600   \n",
              "...                                       ...                         ...   \n",
              "51712                             Continental                       1,500   \n",
              "51713                             Finger Food                         600   \n",
              "51714                             Finger Food                       2,000   \n",
              "51715                             Finger Food                       2,500   \n",
              "51716  Finger Food, North Indian, Continental                       1,500   \n",
              "\n",
              "                                            reviews_list menu_item  \\\n",
              "0      [('Rated 4.0', 'RATED\\n  A beautiful place to ...        []   \n",
              "1      [('Rated 4.0', 'RATED\\n  Had been here for din...        []   \n",
              "2      [('Rated 3.0', \"RATED\\n  Ambience is not that ...        []   \n",
              "3      [('Rated 4.0', \"RATED\\n  Great food and proper...        []   \n",
              "4      [('Rated 4.0', 'RATED\\n  Very good restaurant ...        []   \n",
              "...                                                  ...       ...   \n",
              "51712  [('Rated 5.0', \"RATED\\n  Food and service are ...        []   \n",
              "51713                                                 []        []   \n",
              "51714                                                 []        []   \n",
              "51715  [('Rated 4.0', 'RATED\\n  Nice and friendly pla...        []   \n",
              "51716  [('Rated 5.0', 'RATED\\n  Great ambience , look...        []   \n",
              "\n",
              "      listed_in(type) listed_in(city)  \n",
              "0              Buffet    Banashankari  \n",
              "1              Buffet    Banashankari  \n",
              "2              Buffet    Banashankari  \n",
              "3              Buffet    Banashankari  \n",
              "4              Buffet    Banashankari  \n",
              "...               ...             ...  \n",
              "51712   Pubs and bars      Whitefield  \n",
              "51713   Pubs and bars      Whitefield  \n",
              "51714   Pubs and bars      Whitefield  \n",
              "51715   Pubs and bars      Whitefield  \n",
              "51716   Pubs and bars      Whitefield  \n",
              "\n",
              "[51717 rows x 17 columns]>"
            ]
          },
          "execution_count": 471,
          "metadata": {},
          "output_type": "execute_result"
        }
      ],
      "source": [
        "zomatoB.describe"
      ]
    },
    {
      "cell_type": "code",
      "execution_count": null,
      "id": "080ce70c-f5df-4672-a28e-ebfd695e3cef",
      "metadata": {
        "id": "080ce70c-f5df-4672-a28e-ebfd695e3cef",
        "outputId": "4f8ed03c-f22a-4c1b-85cd-02428fc0a502"
      },
      "outputs": [
        {
          "data": {
            "text/plain": [
              "url                                0\n",
              "address                            0\n",
              "name                               0\n",
              "online_order                       0\n",
              "book_table                         0\n",
              "rate                            7775\n",
              "votes                              0\n",
              "phone                           1208\n",
              "location                          21\n",
              "rest_type                        227\n",
              "dish_liked                     28078\n",
              "cuisines                          45\n",
              "approx_cost(for two people)      346\n",
              "reviews_list                       0\n",
              "menu_item                          0\n",
              "listed_in(type)                    0\n",
              "listed_in(city)                    0\n",
              "dtype: int64"
            ]
          },
          "execution_count": 472,
          "metadata": {},
          "output_type": "execute_result"
        }
      ],
      "source": [
        "zomatoB.isnull().sum()"
      ]
    },
    {
      "cell_type": "code",
      "execution_count": null,
      "id": "bd1223fd-08d2-4f71-ac1b-52ef11088d01",
      "metadata": {
        "id": "bd1223fd-08d2-4f71-ac1b-52ef11088d01",
        "outputId": "d1fda900-7110-46f2-e370-99bef29126d4"
      },
      "outputs": [
        {
          "data": {
            "text/plain": [
              "<bound method NDFrame.describe of                                                      url  \\\n",
              "0      https://www.zomato.com/bangalore/jalsa-banasha...   \n",
              "1      https://www.zomato.com/bangalore/spice-elephan...   \n",
              "2      https://www.zomato.com/SanchurroBangalore?cont...   \n",
              "3      https://www.zomato.com/bangalore/addhuri-udupi...   \n",
              "4      https://www.zomato.com/bangalore/grand-village...   \n",
              "...                                                  ...   \n",
              "51712  https://www.zomato.com/bangalore/best-brews-fo...   \n",
              "51713  https://www.zomato.com/bangalore/vinod-bar-and...   \n",
              "51714  https://www.zomato.com/bangalore/plunge-sherat...   \n",
              "51715  https://www.zomato.com/bangalore/chime-sherato...   \n",
              "51716  https://www.zomato.com/bangalore/the-nest-the-...   \n",
              "\n",
              "                                                 address  \\\n",
              "0      942, 21st Main Road, 2nd Stage, Banashankari, ...   \n",
              "1      2nd Floor, 80 Feet Road, Near Big Bazaar, 6th ...   \n",
              "2      1112, Next to KIMS Medical College, 17th Cross...   \n",
              "3      1st Floor, Annakuteera, 3rd Stage, Banashankar...   \n",
              "4      10, 3rd Floor, Lakshmi Associates, Gandhi Baza...   \n",
              "...                                                  ...   \n",
              "51712  Four Points by Sheraton Bengaluru, 43/3, White...   \n",
              "51713  Number 10, Garudachar Palya, Mahadevapura, Whi...   \n",
              "51714  Sheraton Grand Bengaluru Whitefield Hotel & Co...   \n",
              "51715  Sheraton Grand Bengaluru Whitefield Hotel & Co...   \n",
              "51716  ITPL Main Road, KIADB Export Promotion Industr...   \n",
              "\n",
              "                                                    name online_order  \\\n",
              "0                                                  Jalsa          Yes   \n",
              "1                                         Spice Elephant          Yes   \n",
              "2                                        San Churro Cafe          Yes   \n",
              "3                                  Addhuri Udupi Bhojana           No   \n",
              "4                                          Grand Village           No   \n",
              "...                                                  ...          ...   \n",
              "51712  Best Brews - Four Points by Sheraton Bengaluru...           No   \n",
              "51713                           Vinod Bar And Restaurant           No   \n",
              "51714  Plunge - Sheraton Grand Bengaluru Whitefield H...           No   \n",
              "51715  Chime - Sheraton Grand Bengaluru Whitefield Ho...           No   \n",
              "51716                       The Nest - The Den Bengaluru           No   \n",
              "\n",
              "      book_table    rate  votes                             phone  \\\n",
              "0            Yes   4.1/5    775    080 42297555\\r\\n+91 9743772233   \n",
              "1             No   4.1/5    787                      080 41714161   \n",
              "2             No   3.8/5    918                    +91 9663487993   \n",
              "3             No   3.7/5     88                    +91 9620009302   \n",
              "4             No   3.8/5    166  +91 8026612447\\r\\n+91 9901210005   \n",
              "...          ...     ...    ...                               ...   \n",
              "51712         No  3.6 /5     27                      080 40301477   \n",
              "51713         No     NaN      0                    +91 8197675843   \n",
              "51714         No     NaN      0                               NaN   \n",
              "51715        Yes  4.3 /5    236                      080 49652769   \n",
              "51716         No  3.4 /5     13                    +91 8071117272   \n",
              "\n",
              "                         location            rest_type  \\\n",
              "0                    Banashankari        Casual Dining   \n",
              "1                    Banashankari        Casual Dining   \n",
              "2                    Banashankari  Cafe, Casual Dining   \n",
              "3                    Banashankari          Quick Bites   \n",
              "4                    Basavanagudi        Casual Dining   \n",
              "...                           ...                  ...   \n",
              "51712                  Whitefield                  Bar   \n",
              "51713                  Whitefield                  Bar   \n",
              "51714                  Whitefield                  Bar   \n",
              "51715  ITPL Main Road, Whitefield                  Bar   \n",
              "51716  ITPL Main Road, Whitefield   Bar, Casual Dining   \n",
              "\n",
              "                                              dish_liked  \\\n",
              "0      Pasta, Lunch Buffet, Masala Papad, Paneer Laja...   \n",
              "1      Momos, Lunch Buffet, Chocolate Nirvana, Thai G...   \n",
              "2      Churros, Cannelloni, Minestrone Soup, Hot Choc...   \n",
              "3                                            Masala Dosa   \n",
              "4                                    Panipuri, Gol Gappe   \n",
              "...                                                  ...   \n",
              "51712                                                NaN   \n",
              "51713                                                NaN   \n",
              "51714                                                NaN   \n",
              "51715                       Cocktails, Pizza, Buttermilk   \n",
              "51716                                                NaN   \n",
              "\n",
              "                                     cuisines approx_cost(for two people)  \\\n",
              "0              North Indian, Mughlai, Chinese                         800   \n",
              "1                 Chinese, North Indian, Thai                         800   \n",
              "2                      Cafe, Mexican, Italian                         800   \n",
              "3                  South Indian, North Indian                         300   \n",
              "4                    North Indian, Rajasthani                         600   \n",
              "...                                       ...                         ...   \n",
              "51712                             Continental                       1,500   \n",
              "51713                             Finger Food                         600   \n",
              "51714                             Finger Food                       2,000   \n",
              "51715                             Finger Food                       2,500   \n",
              "51716  Finger Food, North Indian, Continental                       1,500   \n",
              "\n",
              "                                            reviews_list menu_item  \\\n",
              "0      [('Rated 4.0', 'RATED\\n  A beautiful place to ...        []   \n",
              "1      [('Rated 4.0', 'RATED\\n  Had been here for din...        []   \n",
              "2      [('Rated 3.0', \"RATED\\n  Ambience is not that ...        []   \n",
              "3      [('Rated 4.0', \"RATED\\n  Great food and proper...        []   \n",
              "4      [('Rated 4.0', 'RATED\\n  Very good restaurant ...        []   \n",
              "...                                                  ...       ...   \n",
              "51712  [('Rated 5.0', \"RATED\\n  Food and service are ...        []   \n",
              "51713                                                 []        []   \n",
              "51714                                                 []        []   \n",
              "51715  [('Rated 4.0', 'RATED\\n  Nice and friendly pla...        []   \n",
              "51716  [('Rated 5.0', 'RATED\\n  Great ambience , look...        []   \n",
              "\n",
              "      listed_in(type) listed_in(city)  \n",
              "0              Buffet    Banashankari  \n",
              "1              Buffet    Banashankari  \n",
              "2              Buffet    Banashankari  \n",
              "3              Buffet    Banashankari  \n",
              "4              Buffet    Banashankari  \n",
              "...               ...             ...  \n",
              "51712   Pubs and bars      Whitefield  \n",
              "51713   Pubs and bars      Whitefield  \n",
              "51714   Pubs and bars      Whitefield  \n",
              "51715   Pubs and bars      Whitefield  \n",
              "51716   Pubs and bars      Whitefield  \n",
              "\n",
              "[51717 rows x 17 columns]>"
            ]
          },
          "execution_count": 473,
          "metadata": {},
          "output_type": "execute_result"
        }
      ],
      "source": [
        "zomatoB.describe"
      ]
    },
    {
      "cell_type": "code",
      "execution_count": null,
      "id": "e4072214-8d2b-41b5-a666-3eab3b183aff",
      "metadata": {
        "id": "e4072214-8d2b-41b5-a666-3eab3b183aff",
        "outputId": "6b6f4198-31d9-454d-9502-9febb4770b15"
      },
      "outputs": [
        {
          "data": {
            "text/plain": [
              "0"
            ]
          },
          "execution_count": 474,
          "metadata": {},
          "output_type": "execute_result"
        }
      ],
      "source": [
        "zomatoB.duplicated().sum()"
      ]
    },
    {
      "cell_type": "code",
      "execution_count": null,
      "id": "83f1b8f0-6465-4339-a38a-92313428b10f",
      "metadata": {
        "id": "83f1b8f0-6465-4339-a38a-92313428b10f",
        "outputId": "ed47ffe6-1b1a-4187-f08f-185e54f76962"
      },
      "outputs": [
        {
          "data": {
            "text/plain": [
              "url                             0.000000\n",
              "address                         0.000000\n",
              "name                            0.000000\n",
              "online_order                    0.000000\n",
              "book_table                      0.000000\n",
              "rate                           15.033741\n",
              "votes                           0.000000\n",
              "phone                           2.335789\n",
              "location                        0.040606\n",
              "rest_type                       0.438927\n",
              "dish_liked                     54.291626\n",
              "cuisines                        0.087012\n",
              "approx_cost(for two people)     0.669026\n",
              "reviews_list                    0.000000\n",
              "menu_item                       0.000000\n",
              "listed_in(type)                 0.000000\n",
              "listed_in(city)                 0.000000\n",
              "dtype: float64"
            ]
          },
          "execution_count": 475,
          "metadata": {},
          "output_type": "execute_result"
        }
      ],
      "source": [
        "zomatoB.isnull().mean()*100"
      ]
    },
    {
      "cell_type": "code",
      "execution_count": null,
      "id": "c598c23b-8e4e-4950-92de-498f64091aac",
      "metadata": {
        "id": "c598c23b-8e4e-4950-92de-498f64091aac"
      },
      "outputs": [],
      "source": []
    },
    {
      "cell_type": "code",
      "execution_count": null,
      "id": "12295fb2-2d1e-4d62-bb06-bf8872ed14b3",
      "metadata": {
        "id": "12295fb2-2d1e-4d62-bb06-bf8872ed14b3"
      },
      "outputs": [],
      "source": [
        "zomatoB.drop(columns= [\"url\",\"address\",\"phone\", \"reviews_list\",\"dish_liked\"],axis=1,inplace=True)"
      ]
    },
    {
      "cell_type": "code",
      "execution_count": null,
      "id": "b19e2f70-3e92-4da2-a7ac-9078c11cc226",
      "metadata": {
        "id": "b19e2f70-3e92-4da2-a7ac-9078c11cc226",
        "outputId": "ef24e934-2ca7-4b5f-9a2a-d54341533dcb"
      },
      "outputs": [
        {
          "data": {
            "text/plain": [
              "<bound method NDFrame.describe of                                                     name online_order  \\\n",
              "0                                                  Jalsa          Yes   \n",
              "1                                         Spice Elephant          Yes   \n",
              "2                                        San Churro Cafe          Yes   \n",
              "3                                  Addhuri Udupi Bhojana           No   \n",
              "4                                          Grand Village           No   \n",
              "...                                                  ...          ...   \n",
              "51712  Best Brews - Four Points by Sheraton Bengaluru...           No   \n",
              "51713                           Vinod Bar And Restaurant           No   \n",
              "51714  Plunge - Sheraton Grand Bengaluru Whitefield H...           No   \n",
              "51715  Chime - Sheraton Grand Bengaluru Whitefield Ho...           No   \n",
              "51716                       The Nest - The Den Bengaluru           No   \n",
              "\n",
              "      book_table    rate  votes                    location  \\\n",
              "0            Yes   4.1/5    775                Banashankari   \n",
              "1             No   4.1/5    787                Banashankari   \n",
              "2             No   3.8/5    918                Banashankari   \n",
              "3             No   3.7/5     88                Banashankari   \n",
              "4             No   3.8/5    166                Basavanagudi   \n",
              "...          ...     ...    ...                         ...   \n",
              "51712         No  3.6 /5     27                  Whitefield   \n",
              "51713         No     NaN      0                  Whitefield   \n",
              "51714         No     NaN      0                  Whitefield   \n",
              "51715        Yes  4.3 /5    236  ITPL Main Road, Whitefield   \n",
              "51716         No  3.4 /5     13  ITPL Main Road, Whitefield   \n",
              "\n",
              "                 rest_type                                cuisines  \\\n",
              "0            Casual Dining          North Indian, Mughlai, Chinese   \n",
              "1            Casual Dining             Chinese, North Indian, Thai   \n",
              "2      Cafe, Casual Dining                  Cafe, Mexican, Italian   \n",
              "3              Quick Bites              South Indian, North Indian   \n",
              "4            Casual Dining                North Indian, Rajasthani   \n",
              "...                    ...                                     ...   \n",
              "51712                  Bar                             Continental   \n",
              "51713                  Bar                             Finger Food   \n",
              "51714                  Bar                             Finger Food   \n",
              "51715                  Bar                             Finger Food   \n",
              "51716   Bar, Casual Dining  Finger Food, North Indian, Continental   \n",
              "\n",
              "      approx_cost(for two people) menu_item listed_in(type) listed_in(city)  \n",
              "0                             800        []          Buffet    Banashankari  \n",
              "1                             800        []          Buffet    Banashankari  \n",
              "2                             800        []          Buffet    Banashankari  \n",
              "3                             300        []          Buffet    Banashankari  \n",
              "4                             600        []          Buffet    Banashankari  \n",
              "...                           ...       ...             ...             ...  \n",
              "51712                       1,500        []   Pubs and bars      Whitefield  \n",
              "51713                         600        []   Pubs and bars      Whitefield  \n",
              "51714                       2,000        []   Pubs and bars      Whitefield  \n",
              "51715                       2,500        []   Pubs and bars      Whitefield  \n",
              "51716                       1,500        []   Pubs and bars      Whitefield  \n",
              "\n",
              "[51717 rows x 12 columns]>"
            ]
          },
          "execution_count": 477,
          "metadata": {},
          "output_type": "execute_result"
        }
      ],
      "source": [
        "zomatoB.describe"
      ]
    },
    {
      "cell_type": "code",
      "execution_count": null,
      "id": "8b3b7ba6-192d-49e4-b083-04f9e4607443",
      "metadata": {
        "id": "8b3b7ba6-192d-49e4-b083-04f9e4607443",
        "outputId": "3dc90ed3-6769-479c-c1a8-b008359b8e8d"
      },
      "outputs": [
        {
          "data": {
            "text/plain": [
              "name                            0.000000\n",
              "online_order                    0.000000\n",
              "book_table                      0.000000\n",
              "rate                           15.033741\n",
              "votes                           0.000000\n",
              "location                        0.040606\n",
              "rest_type                       0.438927\n",
              "cuisines                        0.087012\n",
              "approx_cost(for two people)     0.669026\n",
              "menu_item                       0.000000\n",
              "listed_in(type)                 0.000000\n",
              "listed_in(city)                 0.000000\n",
              "dtype: float64"
            ]
          },
          "execution_count": 478,
          "metadata": {},
          "output_type": "execute_result"
        }
      ],
      "source": [
        "zomatoB.isnull().mean()*100"
      ]
    },
    {
      "cell_type": "markdown",
      "id": "84a77089-7e72-4d95-a813-82f6fa6aca6f",
      "metadata": {
        "id": "84a77089-7e72-4d95-a813-82f6fa6aca6f"
      },
      "source": [
        "zomatoB.isnull().sum()"
      ]
    },
    {
      "cell_type": "code",
      "execution_count": null,
      "id": "f125e7fa-6c92-43f2-b7cf-6a8c0d3a095e",
      "metadata": {
        "id": "f125e7fa-6c92-43f2-b7cf-6a8c0d3a095e",
        "outputId": "db282ac5-b7a5-4c59-e9b0-dbe256289205"
      },
      "outputs": [
        {
          "name": "stderr",
          "output_type": "stream",
          "text": [
            "C:\\Users\\HP\\AppData\\Local\\Temp\\ipykernel_11180\\5887076.py:3: FutureWarning: A value is trying to be set on a copy of a DataFrame or Series through chained assignment using an inplace method.\n",
            "The behavior will change in pandas 3.0. This inplace method will never work because the intermediate object on which we are setting values always behaves as a copy.\n",
            "\n",
            "For example, when doing 'df[col].method(value, inplace=True)', try using 'df.method({col: value}, inplace=True)' or df[col] = df[col].method(value) instead, to perform the operation inplace on the original object.\n",
            "\n",
            "\n",
            "  zomatoB[column].fillna(zomatoB[column].mode()[0], inplace=True)\n"
          ]
        }
      ],
      "source": [
        "zomatobb = [\"rate\", \"location\", \"rest_type\", \"cuisines\", \"approx_cost(for two people)\"]\n",
        "for column in zomatobb:\n",
        "    zomatoB[column].fillna(zomatoB[column].mode()[0], inplace=True)\n"
      ]
    },
    {
      "cell_type": "code",
      "execution_count": null,
      "id": "edcdbff9-b67c-4c43-890f-bfa2190c41dc",
      "metadata": {
        "id": "edcdbff9-b67c-4c43-890f-bfa2190c41dc",
        "outputId": "a4da7a63-d74f-4420-d185-f0899b46e4c9"
      },
      "outputs": [
        {
          "data": {
            "text/plain": [
              "name                           0\n",
              "online_order                   0\n",
              "book_table                     0\n",
              "rate                           0\n",
              "votes                          0\n",
              "location                       0\n",
              "rest_type                      0\n",
              "cuisines                       0\n",
              "approx_cost(for two people)    0\n",
              "menu_item                      0\n",
              "listed_in(type)                0\n",
              "listed_in(city)                0\n",
              "dtype: int64"
            ]
          },
          "execution_count": 481,
          "metadata": {},
          "output_type": "execute_result"
        }
      ],
      "source": [
        "zomatoB.isnull().sum()"
      ]
    },
    {
      "cell_type": "code",
      "execution_count": null,
      "id": "dcedd01e-a232-4283-9462-35834992b35e",
      "metadata": {
        "id": "dcedd01e-a232-4283-9462-35834992b35e"
      },
      "outputs": [],
      "source": [
        "zomatoB.rename(columns={\"approx_cost(for two people)\": \"cost_for_two\"}, inplace=True)\n",
        "zomatoB.rename(columns={\"listed_in(type)\": \"type\"}, inplace=True)\n",
        "zomatoB.rename(columns={\"listed_in(city)\": \"Area\"}, inplace=True)\n"
      ]
    },
    {
      "cell_type": "code",
      "execution_count": null,
      "id": "e34405cc-0125-48b9-b2d8-a2c98bc5ad5e",
      "metadata": {
        "id": "e34405cc-0125-48b9-b2d8-a2c98bc5ad5e",
        "outputId": "a41322a2-fe1b-4d68-fd77-ea28fc58d097"
      },
      "outputs": [
        {
          "data": {
            "text/plain": [
              "name            0\n",
              "online_order    0\n",
              "book_table      0\n",
              "rate            0\n",
              "votes           0\n",
              "location        0\n",
              "rest_type       0\n",
              "cuisines        0\n",
              "cost_for_two    0\n",
              "menu_item       0\n",
              "type            0\n",
              "Area            0\n",
              "dtype: int64"
            ]
          },
          "execution_count": 483,
          "metadata": {},
          "output_type": "execute_result"
        }
      ],
      "source": [
        "zomatoB.isnull().sum()"
      ]
    },
    {
      "cell_type": "code",
      "execution_count": null,
      "id": "56e15241-33e6-4126-9385-b3e71f571f10",
      "metadata": {
        "id": "56e15241-33e6-4126-9385-b3e71f571f10",
        "outputId": "30cccafb-0d4b-4080-c980-62cef3a9d5bd"
      },
      "outputs": [
        {
          "data": {
            "text/plain": [
              "name            0\n",
              "online_order    0\n",
              "book_table      0\n",
              "rate            0\n",
              "votes           0\n",
              "location        0\n",
              "rest_type       0\n",
              "cuisines        0\n",
              "cost_for_two    0\n",
              "menu_item       0\n",
              "type            0\n",
              "Area            0\n",
              "dtype: int64"
            ]
          },
          "execution_count": 484,
          "metadata": {},
          "output_type": "execute_result"
        }
      ],
      "source": [
        "zomatoB.isnull().sum()"
      ]
    },
    {
      "cell_type": "code",
      "execution_count": null,
      "id": "aa286383-385d-4352-b04e-5d9d7090e505",
      "metadata": {
        "id": "aa286383-385d-4352-b04e-5d9d7090e505",
        "outputId": "30d6d589-555b-4e5f-94b1-0e1cb4e98333"
      },
      "outputs": [
        {
          "data": {
            "text/plain": [
              "(51717, 12)"
            ]
          },
          "execution_count": 485,
          "metadata": {},
          "output_type": "execute_result"
        }
      ],
      "source": [
        "zomatoB.shape"
      ]
    },
    {
      "cell_type": "code",
      "execution_count": null,
      "id": "7a776d50-e74b-4e27-962a-72e4bdb2c38c",
      "metadata": {
        "id": "7a776d50-e74b-4e27-962a-72e4bdb2c38c",
        "outputId": "2d1efaea-fe6d-4c33-fa13-93d2eac438c3"
      },
      "outputs": [
        {
          "data": {
            "text/plain": [
              "(51717, 12)"
            ]
          },
          "execution_count": 486,
          "metadata": {},
          "output_type": "execute_result"
        }
      ],
      "source": [
        "zomatoB.shape\n"
      ]
    },
    {
      "cell_type": "code",
      "execution_count": null,
      "id": "a77524ab-9c5c-43fc-b27f-d28e2513eb56",
      "metadata": {
        "id": "a77524ab-9c5c-43fc-b27f-d28e2513eb56",
        "outputId": "a3662e6c-ba02-4e3e-e2f6-2cded6079060"
      },
      "outputs": [
        {
          "data": {
            "text/plain": [
              "name            0\n",
              "online_order    0\n",
              "book_table      0\n",
              "rate            0\n",
              "votes           0\n",
              "location        0\n",
              "rest_type       0\n",
              "cuisines        0\n",
              "cost_for_two    0\n",
              "menu_item       0\n",
              "type            0\n",
              "Area            0\n",
              "dtype: int64"
            ]
          },
          "execution_count": 487,
          "metadata": {},
          "output_type": "execute_result"
        }
      ],
      "source": [
        "zomatoB.isnull().sum()\n",
        "\n"
      ]
    },
    {
      "cell_type": "code",
      "execution_count": null,
      "id": "37ff8d2a-6640-425e-81a0-9d5e32c8c4d4",
      "metadata": {
        "id": "37ff8d2a-6640-425e-81a0-9d5e32c8c4d4",
        "outputId": "99253273-790a-4378-cccc-82a691d5fe0d"
      },
      "outputs": [
        {
          "name": "stderr",
          "output_type": "stream",
          "text": [
            "C:\\Users\\HP\\AppData\\Local\\Temp\\ipykernel_11180\\1717000586.py:1: FutureWarning: A value is trying to be set on a copy of a DataFrame or Series through chained assignment using an inplace method.\n",
            "The behavior will change in pandas 3.0. This inplace method will never work because the intermediate object on which we are setting values always behaves as a copy.\n",
            "\n",
            "For example, when doing 'df[col].method(value, inplace=True)', try using 'df.method({col: value}, inplace=True)' or df[col] = df[col].method(value) instead, to perform the operation inplace on the original object.\n",
            "\n",
            "\n",
            "  zomatoB[\"rate\"].fillna(zomatoB[\"rate\"].mode()[0], inplace=True)\n"
          ]
        }
      ],
      "source": [
        "zomatoB[\"rate\"].fillna(zomatoB[\"rate\"].mode()[0], inplace=True)"
      ]
    },
    {
      "cell_type": "code",
      "execution_count": null,
      "id": "a94a4908-da06-454a-990d-069f9a10de41",
      "metadata": {
        "id": "a94a4908-da06-454a-990d-069f9a10de41",
        "outputId": "2e30d192-a777-449d-bf4d-ccda31cc8e41"
      },
      "outputs": [
        {
          "data": {
            "text/plain": [
              "array(['4.1/5', '3.8/5', '3.7/5', '3.6/5', '4.6/5', '4.0/5', '4.2/5',\n",
              "       '3.9/5', '3.1/5', '3.0/5', '3.2/5', '3.3/5', '2.8/5', '4.4/5',\n",
              "       '4.3/5', 'NEW', '2.9/5', '3.5/5', '2.6/5', '3.8 /5', '3.4/5',\n",
              "       '4.5/5', '2.5/5', '2.7/5', '4.7/5', '2.4/5', '2.2/5', '2.3/5',\n",
              "       '3.4 /5', '-', '3.6 /5', '4.8/5', '3.9 /5', '4.2 /5', '4.0 /5',\n",
              "       '4.1 /5', '3.7 /5', '3.1 /5', '2.9 /5', '3.3 /5', '2.8 /5',\n",
              "       '3.5 /5', '2.7 /5', '2.5 /5', '3.2 /5', '2.6 /5', '4.5 /5',\n",
              "       '4.3 /5', '4.4 /5', '4.9/5', '2.1/5', '2.0/5', '1.8/5', '4.6 /5',\n",
              "       '4.9 /5', '3.0 /5', '4.8 /5', '2.3 /5', '4.7 /5', '2.4 /5',\n",
              "       '2.1 /5', '2.2 /5', '2.0 /5', '1.8 /5'], dtype=object)"
            ]
          },
          "execution_count": 489,
          "metadata": {},
          "output_type": "execute_result"
        }
      ],
      "source": [
        "zomatoB[\"rate\"].unique()"
      ]
    },
    {
      "cell_type": "code",
      "execution_count": null,
      "id": "b19358d5-a41e-4ab2-a81b-2f26c6a745cb",
      "metadata": {
        "id": "b19358d5-a41e-4ab2-a81b-2f26c6a745cb"
      },
      "outputs": [],
      "source": [
        "def handlerate(value):\n",
        "    if (value == \"NEW\" or value == \"-\"):\n",
        "        return np.nan\n",
        "    else:\n",
        "        value = str(value).split(\"/\")\n",
        "        value = value[0]\n",
        "        return float(value)\n",
        "\n",
        "zomatoB[\"rate\"] = zomatoB[\"rate\"].apply(handlerate)"
      ]
    },
    {
      "cell_type": "code",
      "execution_count": null,
      "id": "ffb84f1d-1131-45d6-833c-a23a1e7df1f1",
      "metadata": {
        "id": "ffb84f1d-1131-45d6-833c-a23a1e7df1f1",
        "outputId": "21254629-7138-432f-a259-574366c71e52"
      },
      "outputs": [
        {
          "data": {
            "text/plain": [
              "array([4.1, 3.8, 3.7, 3.6, 4.6, 4. , 4.2, 3.9, 3.1, 3. , 3.2, 3.3, 2.8,\n",
              "       4.4, 4.3, nan, 2.9, 3.5, 2.6, 3.4, 4.5, 2.5, 2.7, 4.7, 2.4, 2.2,\n",
              "       2.3, 4.8, 4.9, 2.1, 2. , 1.8])"
            ]
          },
          "execution_count": 491,
          "metadata": {},
          "output_type": "execute_result"
        }
      ],
      "source": [
        "zomatoB[\"rate\"].unique()"
      ]
    },
    {
      "cell_type": "code",
      "execution_count": null,
      "id": "d9070aa3-98fb-49a0-b23e-ce6cb6ca5a85",
      "metadata": {
        "id": "d9070aa3-98fb-49a0-b23e-ce6cb6ca5a85",
        "outputId": "187a907f-b33f-40c7-f008-a3699b459fa2"
      },
      "outputs": [
        {
          "data": {
            "text/plain": [
              "0    4.1\n",
              "1    4.1\n",
              "2    3.8\n",
              "3    3.7\n",
              "4    3.8\n",
              "Name: rate, dtype: float64"
            ]
          },
          "execution_count": 492,
          "metadata": {},
          "output_type": "execute_result"
        }
      ],
      "source": [
        "zomatoB[\"rate\"].head()"
      ]
    },
    {
      "cell_type": "code",
      "execution_count": null,
      "id": "df12f128-153e-4947-836d-f52de716208b",
      "metadata": {
        "id": "df12f128-153e-4947-836d-f52de716208b"
      },
      "outputs": [],
      "source": []
    },
    {
      "cell_type": "code",
      "execution_count": null,
      "id": "5aca4ebc-958b-421d-80c5-83fc623eea33",
      "metadata": {
        "id": "5aca4ebc-958b-421d-80c5-83fc623eea33",
        "outputId": "0224dbba-cc0a-4edb-e021-242309505104"
      },
      "outputs": [
        {
          "data": {
            "text/plain": [
              "10052"
            ]
          },
          "execution_count": 493,
          "metadata": {},
          "output_type": "execute_result"
        }
      ],
      "source": [
        "zomatoB[\"rate\"].isnull().sum()"
      ]
    },
    {
      "cell_type": "code",
      "execution_count": null,
      "id": "fee090c2-c0d5-49c9-ae3f-9cdd16bf06af",
      "metadata": {
        "id": "fee090c2-c0d5-49c9-ae3f-9cdd16bf06af",
        "outputId": "33fe0ee8-812d-4014-8f7b-41494277ca56"
      },
      "outputs": [
        {
          "data": {
            "text/plain": [
              "(51717,)"
            ]
          },
          "execution_count": 494,
          "metadata": {},
          "output_type": "execute_result"
        }
      ],
      "source": [
        "zomatoB[\"rate\"].shape"
      ]
    },
    {
      "cell_type": "code",
      "execution_count": null,
      "id": "ffd344d9-642a-4b6a-b7ca-649e4fb11d79",
      "metadata": {
        "id": "ffd344d9-642a-4b6a-b7ca-649e4fb11d79",
        "outputId": "420cdd68-634d-4355-bbb6-f418678746bf"
      },
      "outputs": [
        {
          "data": {
            "text/plain": [
              "array(['Banashankari', 'Basavanagudi', 'Mysore Road', 'Jayanagar',\n",
              "       'Kumaraswamy Layout', 'Rajarajeshwari Nagar', 'Vijay Nagar',\n",
              "       'Uttarahalli', 'JP Nagar', 'South Bangalore', 'City Market',\n",
              "       'Nagarbhavi', 'Bannerghatta Road', 'BTM', 'Kanakapura Road',\n",
              "       'Bommanahalli', 'CV Raman Nagar', 'Electronic City', 'HSR',\n",
              "       'Marathahalli', 'Sarjapur Road', 'Wilson Garden', 'Shanti Nagar',\n",
              "       'Koramangala 5th Block', 'Koramangala 8th Block', 'Richmond Road',\n",
              "       'Koramangala 7th Block', 'Jalahalli', 'Koramangala 4th Block',\n",
              "       'Bellandur', 'Whitefield', 'East Bangalore', 'Old Airport Road',\n",
              "       'Indiranagar', 'Koramangala 1st Block', 'Frazer Town', 'RT Nagar',\n",
              "       'MG Road', 'Brigade Road', 'Lavelle Road', 'Church Street',\n",
              "       'Ulsoor', 'Residency Road', 'Shivajinagar', 'Infantry Road',\n",
              "       'St. Marks Road', 'Cunningham Road', 'Race Course Road',\n",
              "       'Commercial Street', 'Vasanth Nagar', 'HBR Layout', 'Domlur',\n",
              "       'Ejipura', 'Jeevan Bhima Nagar', 'Old Madras Road', 'Malleshwaram',\n",
              "       'Seshadripuram', 'Kammanahalli', 'Koramangala 6th Block',\n",
              "       'Majestic', 'Langford Town', 'Central Bangalore', 'Sanjay Nagar',\n",
              "       'Brookefield', 'ITPL Main Road, Whitefield',\n",
              "       'Varthur Main Road, Whitefield', 'KR Puram',\n",
              "       'Koramangala 2nd Block', 'Koramangala 3rd Block', 'Koramangala',\n",
              "       'Hosur Road', 'Rajajinagar', 'Banaswadi', 'North Bangalore',\n",
              "       'Nagawara', 'Hennur', 'Kalyan Nagar', 'New BEL Road', 'Jakkur',\n",
              "       'Rammurthy Nagar', 'Thippasandra', 'Kaggadasapura', 'Hebbal',\n",
              "       'Kengeri', 'Sankey Road', 'Sadashiv Nagar', 'Basaveshwara Nagar',\n",
              "       'Yeshwantpur', 'West Bangalore', 'Magadi Road', 'Yelahanka',\n",
              "       'Sahakara Nagar', 'Peenya'], dtype=object)"
            ]
          },
          "execution_count": 495,
          "metadata": {},
          "output_type": "execute_result"
        }
      ],
      "source": [
        "zomatoB[\"location\"].unique()"
      ]
    },
    {
      "cell_type": "code",
      "execution_count": null,
      "id": "10116708-c7fd-4863-aa2b-19642bca3a55",
      "metadata": {
        "id": "10116708-c7fd-4863-aa2b-19642bca3a55",
        "outputId": "47a8a477-9590-4f77-c24e-eb0c0e210c6d"
      },
      "outputs": [
        {
          "data": {
            "text/html": [
              "<div>\n",
              "<style scoped>\n",
              "    .dataframe tbody tr th:only-of-type {\n",
              "        vertical-align: middle;\n",
              "    }\n",
              "\n",
              "    .dataframe tbody tr th {\n",
              "        vertical-align: top;\n",
              "    }\n",
              "\n",
              "    .dataframe thead th {\n",
              "        text-align: right;\n",
              "    }\n",
              "</style>\n",
              "<table border=\"1\" class=\"dataframe\">\n",
              "  <thead>\n",
              "    <tr style=\"text-align: right;\">\n",
              "      <th></th>\n",
              "      <th>name</th>\n",
              "      <th>online_order</th>\n",
              "      <th>book_table</th>\n",
              "      <th>rate</th>\n",
              "      <th>votes</th>\n",
              "      <th>location</th>\n",
              "      <th>rest_type</th>\n",
              "      <th>cuisines</th>\n",
              "      <th>cost_for_two</th>\n",
              "      <th>menu_item</th>\n",
              "      <th>type</th>\n",
              "      <th>Area</th>\n",
              "    </tr>\n",
              "  </thead>\n",
              "  <tbody>\n",
              "    <tr>\n",
              "      <th>0</th>\n",
              "      <td>Jalsa</td>\n",
              "      <td>Yes</td>\n",
              "      <td>Yes</td>\n",
              "      <td>4.1</td>\n",
              "      <td>775</td>\n",
              "      <td>Banashankari</td>\n",
              "      <td>Casual Dining</td>\n",
              "      <td>North Indian, Mughlai, Chinese</td>\n",
              "      <td>800</td>\n",
              "      <td>[]</td>\n",
              "      <td>Buffet</td>\n",
              "      <td>Banashankari</td>\n",
              "    </tr>\n",
              "    <tr>\n",
              "      <th>1</th>\n",
              "      <td>Spice Elephant</td>\n",
              "      <td>Yes</td>\n",
              "      <td>No</td>\n",
              "      <td>4.1</td>\n",
              "      <td>787</td>\n",
              "      <td>Banashankari</td>\n",
              "      <td>Casual Dining</td>\n",
              "      <td>Chinese, North Indian, Thai</td>\n",
              "      <td>800</td>\n",
              "      <td>[]</td>\n",
              "      <td>Buffet</td>\n",
              "      <td>Banashankari</td>\n",
              "    </tr>\n",
              "    <tr>\n",
              "      <th>2</th>\n",
              "      <td>San Churro Cafe</td>\n",
              "      <td>Yes</td>\n",
              "      <td>No</td>\n",
              "      <td>3.8</td>\n",
              "      <td>918</td>\n",
              "      <td>Banashankari</td>\n",
              "      <td>Cafe, Casual Dining</td>\n",
              "      <td>Cafe, Mexican, Italian</td>\n",
              "      <td>800</td>\n",
              "      <td>[]</td>\n",
              "      <td>Buffet</td>\n",
              "      <td>Banashankari</td>\n",
              "    </tr>\n",
              "  </tbody>\n",
              "</table>\n",
              "</div>"
            ],
            "text/plain": [
              "              name online_order book_table  rate  votes      location  \\\n",
              "0            Jalsa          Yes        Yes   4.1    775  Banashankari   \n",
              "1   Spice Elephant          Yes         No   4.1    787  Banashankari   \n",
              "2  San Churro Cafe          Yes         No   3.8    918  Banashankari   \n",
              "\n",
              "             rest_type                        cuisines cost_for_two menu_item  \\\n",
              "0        Casual Dining  North Indian, Mughlai, Chinese          800        []   \n",
              "1        Casual Dining     Chinese, North Indian, Thai          800        []   \n",
              "2  Cafe, Casual Dining          Cafe, Mexican, Italian          800        []   \n",
              "\n",
              "     type          Area  \n",
              "0  Buffet  Banashankari  \n",
              "1  Buffet  Banashankari  \n",
              "2  Buffet  Banashankari  "
            ]
          },
          "execution_count": 496,
          "metadata": {},
          "output_type": "execute_result"
        }
      ],
      "source": [
        "zomatoB.head(3)"
      ]
    },
    {
      "cell_type": "code",
      "execution_count": null,
      "id": "fdae48ee-82cc-4c2d-877f-d201a6007aaf",
      "metadata": {
        "id": "fdae48ee-82cc-4c2d-877f-d201a6007aaf"
      },
      "outputs": [],
      "source": [
        "zomatoB.drop([\"menu_item\"],axis=1,inplace=True)"
      ]
    },
    {
      "cell_type": "code",
      "execution_count": null,
      "id": "faa1d7ef-5963-4f0e-8929-5f842f6c65b8",
      "metadata": {
        "id": "faa1d7ef-5963-4f0e-8929-5f842f6c65b8"
      },
      "outputs": [],
      "source": [
        "zomatoB.drop([\"Area\"],axis=1,inplace=True)"
      ]
    },
    {
      "cell_type": "code",
      "execution_count": null,
      "id": "c1bd54e8-bf34-40bf-a38c-a45f91ab6b77",
      "metadata": {
        "id": "c1bd54e8-bf34-40bf-a38c-a45f91ab6b77",
        "outputId": "13bb0960-8c97-4815-e2bb-a04b2200c960"
      },
      "outputs": [
        {
          "data": {
            "text/plain": [
              "array(['800', '300', '600', '700', '550', '500', '450', '650', '400',\n",
              "       '900', '200', '750', '150', '850', '100', '1,200', '350', '250',\n",
              "       '950', '1,000', '1,500', '1,300', '199', '80', '1,100', '160',\n",
              "       '1,600', '230', '130', '50', '190', '1,700', '1,400', '180',\n",
              "       '1,350', '2,200', '2,000', '1,800', '1,900', '330', '2,500',\n",
              "       '2,100', '3,000', '2,800', '3,400', '40', '1,250', '3,500',\n",
              "       '4,000', '2,400', '2,600', '120', '1,450', '469', '70', '3,200',\n",
              "       '60', '560', '240', '360', '6,000', '1,050', '2,300', '4,100',\n",
              "       '5,000', '3,700', '1,650', '2,700', '4,500', '140'], dtype=object)"
            ]
          },
          "execution_count": 499,
          "metadata": {},
          "output_type": "execute_result"
        }
      ],
      "source": [
        "zomatoB[\"cost_for_two\"].unique()"
      ]
    },
    {
      "cell_type": "code",
      "execution_count": null,
      "id": "a4567e7a-301d-4f51-be95-aa6b7f96dadd",
      "metadata": {
        "id": "a4567e7a-301d-4f51-be95-aa6b7f96dadd",
        "outputId": "ec3e9b67-9365-4af9-bef9-a8e9085b81ce"
      },
      "outputs": [
        {
          "data": {
            "text/plain": [
              "dtype('O')"
            ]
          },
          "execution_count": 500,
          "metadata": {},
          "output_type": "execute_result"
        }
      ],
      "source": [
        "zomatoB[\"cost_for_two\"].dtype"
      ]
    },
    {
      "cell_type": "code",
      "execution_count": null,
      "id": "25bb958e-158b-47aa-a92f-945e12a78b3a",
      "metadata": {
        "id": "25bb958e-158b-47aa-a92f-945e12a78b3a"
      },
      "outputs": [],
      "source": [
        "def handlecost(value):\n",
        "    value = str(value)\n",
        "    if (\",\" in value):\n",
        "        value = value.replace(\",\" , \"\")\n",
        "        return float(value)\n",
        "    else:\n",
        "        return float(value)\n",
        "\n",
        "zomatoB[\"cost_for_two\"] = zomatoB[\"cost_for_two\"].apply(handlecost)"
      ]
    },
    {
      "cell_type": "code",
      "execution_count": null,
      "id": "9b276b3c-3bf5-40b8-8d04-de327e416f6d",
      "metadata": {
        "id": "9b276b3c-3bf5-40b8-8d04-de327e416f6d",
        "outputId": "7ce3efa6-79f3-4959-d005-52959b26b169"
      },
      "outputs": [
        {
          "data": {
            "text/plain": [
              "array([ 800.,  300.,  600.,  700.,  550.,  500.,  450.,  650.,  400.,\n",
              "        900.,  200.,  750.,  150.,  850.,  100., 1200.,  350.,  250.,\n",
              "        950., 1000., 1500., 1300.,  199.,   80., 1100.,  160., 1600.,\n",
              "        230.,  130.,   50.,  190., 1700., 1400.,  180., 1350., 2200.,\n",
              "       2000., 1800., 1900.,  330., 2500., 2100., 3000., 2800., 3400.,\n",
              "         40., 1250., 3500., 4000., 2400., 2600.,  120., 1450.,  469.,\n",
              "         70., 3200.,   60.,  560.,  240.,  360., 6000., 1050., 2300.,\n",
              "       4100., 5000., 3700., 1650., 2700., 4500.,  140.])"
            ]
          },
          "execution_count": 502,
          "metadata": {},
          "output_type": "execute_result"
        }
      ],
      "source": [
        "zomatoB[\"cost_for_two\"].unique()"
      ]
    },
    {
      "cell_type": "code",
      "execution_count": null,
      "id": "f85106d3-3007-4e65-b0a1-ef04f9943d75",
      "metadata": {
        "id": "f85106d3-3007-4e65-b0a1-ef04f9943d75",
        "outputId": "1458eb8b-8667-462c-d500-32f6f4576329"
      },
      "outputs": [
        {
          "data": {
            "text/plain": [
              "dtype('float64')"
            ]
          },
          "execution_count": 503,
          "metadata": {},
          "output_type": "execute_result"
        }
      ],
      "source": [
        "zomatoB[\"cost_for_two\"].dtype"
      ]
    },
    {
      "cell_type": "code",
      "execution_count": null,
      "id": "f44480bb-fc34-4645-8c20-f0114445b4ab",
      "metadata": {
        "id": "f44480bb-fc34-4645-8c20-f0114445b4ab",
        "outputId": "9871a8d1-6e5f-44a8-86bc-b461270d66be"
      },
      "outputs": [
        {
          "data": {
            "text/plain": [
              "array(['Casual Dining', 'Cafe, Casual Dining', 'Quick Bites',\n",
              "       'Casual Dining, Cafe', 'Cafe', 'Quick Bites, Cafe',\n",
              "       'Cafe, Quick Bites', 'Delivery', 'Mess', 'Dessert Parlor',\n",
              "       'Bakery, Dessert Parlor', 'Pub', 'Bakery', 'Takeaway, Delivery',\n",
              "       'Fine Dining', 'Beverage Shop', 'Sweet Shop', 'Bar',\n",
              "       'Beverage Shop, Quick Bites', 'Confectionery',\n",
              "       'Quick Bites, Beverage Shop', 'Dessert Parlor, Sweet Shop',\n",
              "       'Bakery, Quick Bites', 'Sweet Shop, Quick Bites', 'Kiosk',\n",
              "       'Food Truck', 'Quick Bites, Dessert Parlor',\n",
              "       'Beverage Shop, Dessert Parlor', 'Takeaway', 'Pub, Casual Dining',\n",
              "       'Casual Dining, Bar', 'Dessert Parlor, Beverage Shop',\n",
              "       'Quick Bites, Bakery', 'Dessert Parlor, Quick Bites',\n",
              "       'Microbrewery, Casual Dining', 'Lounge', 'Bar, Casual Dining',\n",
              "       'Food Court', 'Cafe, Bakery', 'Dhaba', 'Quick Bites, Sweet Shop',\n",
              "       'Microbrewery', 'Food Court, Quick Bites', 'Pub, Bar',\n",
              "       'Casual Dining, Pub', 'Lounge, Bar', 'Food Court, Dessert Parlor',\n",
              "       'Casual Dining, Sweet Shop', 'Food Court, Casual Dining',\n",
              "       'Casual Dining, Microbrewery', 'Sweet Shop, Dessert Parlor',\n",
              "       'Bakery, Beverage Shop', 'Lounge, Casual Dining',\n",
              "       'Cafe, Food Court', 'Beverage Shop, Cafe', 'Cafe, Dessert Parlor',\n",
              "       'Dessert Parlor, Cafe', 'Dessert Parlor, Bakery',\n",
              "       'Microbrewery, Pub', 'Bakery, Food Court', 'Club',\n",
              "       'Quick Bites, Food Court', 'Bakery, Cafe', 'Bar, Cafe',\n",
              "       'Pub, Cafe', 'Casual Dining, Irani Cafee', 'Fine Dining, Lounge',\n",
              "       'Bar, Quick Bites', 'Bakery, Kiosk', 'Pub, Microbrewery',\n",
              "       'Microbrewery, Lounge', 'Fine Dining, Microbrewery',\n",
              "       'Fine Dining, Bar', 'Mess, Quick Bites', 'Dessert Parlor, Kiosk',\n",
              "       'Bhojanalya', 'Casual Dining, Quick Bites', 'Pop Up', 'Cafe, Bar',\n",
              "       'Casual Dining, Lounge', 'Bakery, Sweet Shop', 'Microbrewery, Bar',\n",
              "       'Cafe, Lounge', 'Bar, Pub', 'Lounge, Cafe', 'Club, Casual Dining',\n",
              "       'Quick Bites, Mess', 'Quick Bites, Meat Shop',\n",
              "       'Quick Bites, Kiosk', 'Lounge, Microbrewery',\n",
              "       'Food Court, Beverage Shop', 'Dessert Parlor, Food Court',\n",
              "       'Bar, Lounge'], dtype=object)"
            ]
          },
          "execution_count": 504,
          "metadata": {},
          "output_type": "execute_result"
        }
      ],
      "source": [
        "zomatoB[\"rest_type\"].unique()"
      ]
    },
    {
      "cell_type": "code",
      "execution_count": null,
      "id": "8637daed-be94-46f6-8a27-9edb8e0bc1af",
      "metadata": {
        "id": "8637daed-be94-46f6-8a27-9edb8e0bc1af",
        "outputId": "185d5cf4-0c8f-4216-d8b1-2a3a22345615"
      },
      "outputs": [
        {
          "data": {
            "text/plain": [
              "rest_type\n",
              "Beverage Shop                 867\n",
              "Bar                           697\n",
              "Food Court                    624\n",
              "Sweet Shop                    468\n",
              "Bar, Casual Dining            425\n",
              "                             ... \n",
              "Dessert Parlor, Kiosk           2\n",
              "Food Court, Beverage Shop       2\n",
              "Dessert Parlor, Food Court      2\n",
              "Sweet Shop, Dessert Parlor      1\n",
              "Quick Bites, Kiosk              1\n",
              "Name: count, Length: 85, dtype: int64"
            ]
          },
          "execution_count": 505,
          "metadata": {},
          "output_type": "execute_result"
        }
      ],
      "source": [
        "# Get the counts of each unique rest_type\n",
        "rest_type_counts = zomatoB[\"rest_type\"].value_counts()\n",
        "\n",
        "# Filter for rest_type categories that occur less than 1000 times\n",
        "rest_type_lessthan1000 = rest_type_counts[rest_type_counts < 1000]\n",
        "\n",
        "# Display the result\n",
        "rest_type_lessthan1000\n"
      ]
    },
    {
      "cell_type": "code",
      "execution_count": null,
      "id": "47e70773-9e5a-4976-856c-73cacb7a99c7",
      "metadata": {
        "id": "47e70773-9e5a-4976-856c-73cacb7a99c7"
      },
      "outputs": [],
      "source": [
        "def handlerest(value):\n",
        "    if (value in rest_type_lessthan1000):\n",
        "        return \"others\"\n",
        "    else:\n",
        "        return value\n",
        "\n",
        "zomatoB[\"rest_type\"] =zomatoB[\"rest_type\"].apply(handlerest)"
      ]
    },
    {
      "cell_type": "code",
      "execution_count": null,
      "id": "3c7a06eb-ebe6-4476-98af-b122a6af0b67",
      "metadata": {
        "id": "3c7a06eb-ebe6-4476-98af-b122a6af0b67",
        "outputId": "4f55551c-1805-452d-fee0-44671b723b30"
      },
      "outputs": [
        {
          "data": {
            "text/plain": [
              "array(['Casual Dining', 'others', 'Quick Bites', 'Cafe', 'Delivery',\n",
              "       'Dessert Parlor', 'Bakery', 'Takeaway, Delivery',\n",
              "       'Casual Dining, Bar'], dtype=object)"
            ]
          },
          "execution_count": 507,
          "metadata": {},
          "output_type": "execute_result"
        }
      ],
      "source": [
        "zomatoB[\"rest_type\"].unique()"
      ]
    },
    {
      "cell_type": "code",
      "execution_count": null,
      "id": "0530a55c-6fff-4d68-93b1-f1a9aa9dabda",
      "metadata": {
        "id": "0530a55c-6fff-4d68-93b1-f1a9aa9dabda",
        "outputId": "65fde301-46aa-475c-b0a7-878a6a437488"
      },
      "outputs": [
        {
          "data": {
            "text/plain": [
              "rest_type\n",
              "Quick Bites           19359\n",
              "Casual Dining         10330\n",
              "others                 9097\n",
              "Cafe                   3732\n",
              "Delivery               2604\n",
              "Dessert Parlor         2263\n",
              "Takeaway, Delivery     2037\n",
              "Casual Dining, Bar     1154\n",
              "Bakery                 1141\n",
              "Name: count, dtype: int64"
            ]
          },
          "execution_count": 508,
          "metadata": {},
          "output_type": "execute_result"
        }
      ],
      "source": [
        "zomatoB[\"rest_type\"].value_counts()"
      ]
    },
    {
      "cell_type": "code",
      "execution_count": null,
      "id": "eb56abbe-2065-4795-9893-f527440319ff",
      "metadata": {
        "id": "eb56abbe-2065-4795-9893-f527440319ff",
        "outputId": "c131f924-f589-4ed0-c8a7-e7f18e4e2bdd"
      },
      "outputs": [
        {
          "data": {
            "text/html": [
              "<div>\n",
              "<style scoped>\n",
              "    .dataframe tbody tr th:only-of-type {\n",
              "        vertical-align: middle;\n",
              "    }\n",
              "\n",
              "    .dataframe tbody tr th {\n",
              "        vertical-align: top;\n",
              "    }\n",
              "\n",
              "    .dataframe thead th {\n",
              "        text-align: right;\n",
              "    }\n",
              "</style>\n",
              "<table border=\"1\" class=\"dataframe\">\n",
              "  <thead>\n",
              "    <tr style=\"text-align: right;\">\n",
              "      <th></th>\n",
              "      <th>name</th>\n",
              "      <th>online_order</th>\n",
              "      <th>book_table</th>\n",
              "      <th>rate</th>\n",
              "      <th>votes</th>\n",
              "      <th>location</th>\n",
              "      <th>rest_type</th>\n",
              "      <th>cuisines</th>\n",
              "      <th>cost_for_two</th>\n",
              "      <th>type</th>\n",
              "    </tr>\n",
              "  </thead>\n",
              "  <tbody>\n",
              "    <tr>\n",
              "      <th>0</th>\n",
              "      <td>Jalsa</td>\n",
              "      <td>Yes</td>\n",
              "      <td>Yes</td>\n",
              "      <td>4.1</td>\n",
              "      <td>775</td>\n",
              "      <td>Banashankari</td>\n",
              "      <td>Casual Dining</td>\n",
              "      <td>North Indian, Mughlai, Chinese</td>\n",
              "      <td>800.0</td>\n",
              "      <td>Buffet</td>\n",
              "    </tr>\n",
              "    <tr>\n",
              "      <th>1</th>\n",
              "      <td>Spice Elephant</td>\n",
              "      <td>Yes</td>\n",
              "      <td>No</td>\n",
              "      <td>4.1</td>\n",
              "      <td>787</td>\n",
              "      <td>Banashankari</td>\n",
              "      <td>Casual Dining</td>\n",
              "      <td>Chinese, North Indian, Thai</td>\n",
              "      <td>800.0</td>\n",
              "      <td>Buffet</td>\n",
              "    </tr>\n",
              "  </tbody>\n",
              "</table>\n",
              "</div>"
            ],
            "text/plain": [
              "             name online_order book_table  rate  votes      location  \\\n",
              "0           Jalsa          Yes        Yes   4.1    775  Banashankari   \n",
              "1  Spice Elephant          Yes         No   4.1    787  Banashankari   \n",
              "\n",
              "       rest_type                        cuisines  cost_for_two    type  \n",
              "0  Casual Dining  North Indian, Mughlai, Chinese         800.0  Buffet  \n",
              "1  Casual Dining     Chinese, North Indian, Thai         800.0  Buffet  "
            ]
          },
          "execution_count": 509,
          "metadata": {},
          "output_type": "execute_result"
        }
      ],
      "source": [
        "zomatoB.head(2)"
      ]
    },
    {
      "cell_type": "code",
      "execution_count": null,
      "id": "51955aab-c81f-4ee5-98a8-0d38886449f5",
      "metadata": {
        "id": "51955aab-c81f-4ee5-98a8-0d38886449f5",
        "outputId": "453d81fa-cb78-4fb5-be20-180b79b47e1d"
      },
      "outputs": [
        {
          "data": {
            "text/html": [
              "<div>\n",
              "<style scoped>\n",
              "    .dataframe tbody tr th:only-of-type {\n",
              "        vertical-align: middle;\n",
              "    }\n",
              "\n",
              "    .dataframe tbody tr th {\n",
              "        vertical-align: top;\n",
              "    }\n",
              "\n",
              "    .dataframe thead th {\n",
              "        text-align: right;\n",
              "    }\n",
              "</style>\n",
              "<table border=\"1\" class=\"dataframe\">\n",
              "  <thead>\n",
              "    <tr style=\"text-align: right;\">\n",
              "      <th></th>\n",
              "      <th>name</th>\n",
              "      <th>online_order</th>\n",
              "      <th>book_table</th>\n",
              "      <th>rate</th>\n",
              "      <th>votes</th>\n",
              "      <th>location</th>\n",
              "      <th>rest_type</th>\n",
              "      <th>cuisines</th>\n",
              "      <th>cost_for_two</th>\n",
              "      <th>type</th>\n",
              "    </tr>\n",
              "  </thead>\n",
              "  <tbody>\n",
              "    <tr>\n",
              "      <th>0</th>\n",
              "      <td>Jalsa</td>\n",
              "      <td>Yes</td>\n",
              "      <td>Yes</td>\n",
              "      <td>4.1</td>\n",
              "      <td>775</td>\n",
              "      <td>Banashankari</td>\n",
              "      <td>Casual Dining</td>\n",
              "      <td>North Indian, Mughlai, Chinese</td>\n",
              "      <td>800.0</td>\n",
              "      <td>Buffet</td>\n",
              "    </tr>\n",
              "    <tr>\n",
              "      <th>1</th>\n",
              "      <td>Spice Elephant</td>\n",
              "      <td>Yes</td>\n",
              "      <td>No</td>\n",
              "      <td>4.1</td>\n",
              "      <td>787</td>\n",
              "      <td>Banashankari</td>\n",
              "      <td>Casual Dining</td>\n",
              "      <td>Chinese, North Indian, Thai</td>\n",
              "      <td>800.0</td>\n",
              "      <td>Buffet</td>\n",
              "    </tr>\n",
              "    <tr>\n",
              "      <th>2</th>\n",
              "      <td>San Churro Cafe</td>\n",
              "      <td>Yes</td>\n",
              "      <td>No</td>\n",
              "      <td>3.8</td>\n",
              "      <td>918</td>\n",
              "      <td>Banashankari</td>\n",
              "      <td>others</td>\n",
              "      <td>Cafe, Mexican, Italian</td>\n",
              "      <td>800.0</td>\n",
              "      <td>Buffet</td>\n",
              "    </tr>\n",
              "  </tbody>\n",
              "</table>\n",
              "</div>"
            ],
            "text/plain": [
              "              name online_order book_table  rate  votes      location  \\\n",
              "0            Jalsa          Yes        Yes   4.1    775  Banashankari   \n",
              "1   Spice Elephant          Yes         No   4.1    787  Banashankari   \n",
              "2  San Churro Cafe          Yes         No   3.8    918  Banashankari   \n",
              "\n",
              "       rest_type                        cuisines  cost_for_two    type  \n",
              "0  Casual Dining  North Indian, Mughlai, Chinese         800.0  Buffet  \n",
              "1  Casual Dining     Chinese, North Indian, Thai         800.0  Buffet  \n",
              "2         others          Cafe, Mexican, Italian         800.0  Buffet  "
            ]
          },
          "execution_count": 510,
          "metadata": {},
          "output_type": "execute_result"
        }
      ],
      "source": [
        "zomatoB.head(3)"
      ]
    },
    {
      "cell_type": "code",
      "execution_count": null,
      "id": "59e8af93-6504-4221-98b6-910d0703bbee",
      "metadata": {
        "id": "59e8af93-6504-4221-98b6-910d0703bbee"
      },
      "outputs": [],
      "source": [
        "#zomatoB.drop([[\"menu_item\"],[\"area\"]],axis=1,inplace=True)"
      ]
    },
    {
      "cell_type": "code",
      "execution_count": null,
      "id": "f5adde64-2323-4222-97a1-bc0f211ddeb6",
      "metadata": {
        "id": "f5adde64-2323-4222-97a1-bc0f211ddeb6",
        "outputId": "ecfc4a1b-ace9-4846-c004-da9f1fbc20df"
      },
      "outputs": [
        {
          "data": {
            "text/html": [
              "<div>\n",
              "<style scoped>\n",
              "    .dataframe tbody tr th:only-of-type {\n",
              "        vertical-align: middle;\n",
              "    }\n",
              "\n",
              "    .dataframe tbody tr th {\n",
              "        vertical-align: top;\n",
              "    }\n",
              "\n",
              "    .dataframe thead th {\n",
              "        text-align: right;\n",
              "    }\n",
              "</style>\n",
              "<table border=\"1\" class=\"dataframe\">\n",
              "  <thead>\n",
              "    <tr style=\"text-align: right;\">\n",
              "      <th></th>\n",
              "      <th>name</th>\n",
              "      <th>online_order</th>\n",
              "      <th>book_table</th>\n",
              "      <th>rate</th>\n",
              "      <th>votes</th>\n",
              "      <th>location</th>\n",
              "      <th>rest_type</th>\n",
              "      <th>cuisines</th>\n",
              "      <th>cost_for_two</th>\n",
              "      <th>type</th>\n",
              "    </tr>\n",
              "  </thead>\n",
              "  <tbody>\n",
              "    <tr>\n",
              "      <th>0</th>\n",
              "      <td>Jalsa</td>\n",
              "      <td>Yes</td>\n",
              "      <td>Yes</td>\n",
              "      <td>4.1</td>\n",
              "      <td>775</td>\n",
              "      <td>Banashankari</td>\n",
              "      <td>Casual Dining</td>\n",
              "      <td>North Indian, Mughlai, Chinese</td>\n",
              "      <td>800.0</td>\n",
              "      <td>Buffet</td>\n",
              "    </tr>\n",
              "    <tr>\n",
              "      <th>1</th>\n",
              "      <td>Spice Elephant</td>\n",
              "      <td>Yes</td>\n",
              "      <td>No</td>\n",
              "      <td>4.1</td>\n",
              "      <td>787</td>\n",
              "      <td>Banashankari</td>\n",
              "      <td>Casual Dining</td>\n",
              "      <td>Chinese, North Indian, Thai</td>\n",
              "      <td>800.0</td>\n",
              "      <td>Buffet</td>\n",
              "    </tr>\n",
              "    <tr>\n",
              "      <th>2</th>\n",
              "      <td>San Churro Cafe</td>\n",
              "      <td>Yes</td>\n",
              "      <td>No</td>\n",
              "      <td>3.8</td>\n",
              "      <td>918</td>\n",
              "      <td>Banashankari</td>\n",
              "      <td>others</td>\n",
              "      <td>Cafe, Mexican, Italian</td>\n",
              "      <td>800.0</td>\n",
              "      <td>Buffet</td>\n",
              "    </tr>\n",
              "  </tbody>\n",
              "</table>\n",
              "</div>"
            ],
            "text/plain": [
              "              name online_order book_table  rate  votes      location  \\\n",
              "0            Jalsa          Yes        Yes   4.1    775  Banashankari   \n",
              "1   Spice Elephant          Yes         No   4.1    787  Banashankari   \n",
              "2  San Churro Cafe          Yes         No   3.8    918  Banashankari   \n",
              "\n",
              "       rest_type                        cuisines  cost_for_two    type  \n",
              "0  Casual Dining  North Indian, Mughlai, Chinese         800.0  Buffet  \n",
              "1  Casual Dining     Chinese, North Indian, Thai         800.0  Buffet  \n",
              "2         others          Cafe, Mexican, Italian         800.0  Buffet  "
            ]
          },
          "execution_count": 512,
          "metadata": {},
          "output_type": "execute_result"
        }
      ],
      "source": [
        "zomatoB.head(3)"
      ]
    },
    {
      "cell_type": "code",
      "execution_count": null,
      "id": "2950b95c-0c7a-42b4-bcc4-c6cbecb7f3ee",
      "metadata": {
        "id": "2950b95c-0c7a-42b4-bcc4-c6cbecb7f3ee",
        "outputId": "51a8e22b-f4e9-4c5c-97dc-504fc404ee6f"
      },
      "outputs": [
        {
          "data": {
            "text/plain": [
              "(51717, 10)"
            ]
          },
          "execution_count": 513,
          "metadata": {},
          "output_type": "execute_result"
        }
      ],
      "source": [
        "zomatoB.shape"
      ]
    },
    {
      "cell_type": "code",
      "execution_count": null,
      "id": "70b2f6a0-a71c-46c9-a09d-314727064706",
      "metadata": {
        "id": "70b2f6a0-a71c-46c9-a09d-314727064706",
        "outputId": "b19eafa5-b1da-4657-fc08-fbaaf95f7ec0"
      },
      "outputs": [
        {
          "data": {
            "text/plain": [
              "name                0\n",
              "online_order        0\n",
              "book_table          0\n",
              "rate            10052\n",
              "votes               0\n",
              "location            0\n",
              "rest_type           0\n",
              "cuisines            0\n",
              "cost_for_two        0\n",
              "type                0\n",
              "dtype: int64"
            ]
          },
          "execution_count": 514,
          "metadata": {},
          "output_type": "execute_result"
        }
      ],
      "source": [
        "zomatoB.isnull().sum()"
      ]
    },
    {
      "cell_type": "code",
      "execution_count": null,
      "id": "8a5ac34e-f814-4693-8cbe-a5c8c29caba9",
      "metadata": {
        "id": "8a5ac34e-f814-4693-8cbe-a5c8c29caba9",
        "outputId": "313a8875-40c9-47f5-c514-f196e1d4ae60"
      },
      "outputs": [
        {
          "data": {
            "text/plain": [
              "location\n",
              "BTM                      5145\n",
              "HSR                      2523\n",
              "Koramangala 5th Block    2504\n",
              "JP Nagar                 2235\n",
              "Whitefield               2144\n",
              "                         ... \n",
              "West Bangalore              6\n",
              "Yelahanka                   6\n",
              "Jakkur                      3\n",
              "Rajarajeshwari Nagar        2\n",
              "Peenya                      1\n",
              "Name: count, Length: 93, dtype: int64"
            ]
          },
          "execution_count": 515,
          "metadata": {},
          "output_type": "execute_result"
        }
      ],
      "source": [
        "zomatoB[\"location\"].value_counts()"
      ]
    },
    {
      "cell_type": "code",
      "execution_count": null,
      "id": "3d825b00-d5f3-4c2f-b457-288a8155776f",
      "metadata": {
        "id": "3d825b00-d5f3-4c2f-b457-288a8155776f",
        "outputId": "6ac94dec-85f7-4ce3-dc24-835e6ae03b3e"
      },
      "outputs": [
        {
          "data": {
            "text/plain": [
              "array(['Banashankari', 'Basavanagudi', 'Mysore Road', 'Jayanagar',\n",
              "       'Kumaraswamy Layout', 'Rajarajeshwari Nagar', 'Vijay Nagar',\n",
              "       'Uttarahalli', 'JP Nagar', 'South Bangalore', 'City Market',\n",
              "       'Nagarbhavi', 'Bannerghatta Road', 'BTM', 'Kanakapura Road',\n",
              "       'Bommanahalli', 'CV Raman Nagar', 'Electronic City', 'HSR',\n",
              "       'Marathahalli', 'Sarjapur Road', 'Wilson Garden', 'Shanti Nagar',\n",
              "       'Koramangala 5th Block', 'Koramangala 8th Block', 'Richmond Road',\n",
              "       'Koramangala 7th Block', 'Jalahalli', 'Koramangala 4th Block',\n",
              "       'Bellandur', 'Whitefield', 'East Bangalore', 'Old Airport Road',\n",
              "       'Indiranagar', 'Koramangala 1st Block', 'Frazer Town', 'RT Nagar',\n",
              "       'MG Road', 'Brigade Road', 'Lavelle Road', 'Church Street',\n",
              "       'Ulsoor', 'Residency Road', 'Shivajinagar', 'Infantry Road',\n",
              "       'St. Marks Road', 'Cunningham Road', 'Race Course Road',\n",
              "       'Commercial Street', 'Vasanth Nagar', 'HBR Layout', 'Domlur',\n",
              "       'Ejipura', 'Jeevan Bhima Nagar', 'Old Madras Road', 'Malleshwaram',\n",
              "       'Seshadripuram', 'Kammanahalli', 'Koramangala 6th Block',\n",
              "       'Majestic', 'Langford Town', 'Central Bangalore', 'Sanjay Nagar',\n",
              "       'Brookefield', 'ITPL Main Road, Whitefield',\n",
              "       'Varthur Main Road, Whitefield', 'KR Puram',\n",
              "       'Koramangala 2nd Block', 'Koramangala 3rd Block', 'Koramangala',\n",
              "       'Hosur Road', 'Rajajinagar', 'Banaswadi', 'North Bangalore',\n",
              "       'Nagawara', 'Hennur', 'Kalyan Nagar', 'New BEL Road', 'Jakkur',\n",
              "       'Rammurthy Nagar', 'Thippasandra', 'Kaggadasapura', 'Hebbal',\n",
              "       'Kengeri', 'Sankey Road', 'Sadashiv Nagar', 'Basaveshwara Nagar',\n",
              "       'Yeshwantpur', 'West Bangalore', 'Magadi Road', 'Yelahanka',\n",
              "       'Sahakara Nagar', 'Peenya'], dtype=object)"
            ]
          },
          "execution_count": 516,
          "metadata": {},
          "output_type": "execute_result"
        }
      ],
      "source": [
        "zomatoB[\"location\"].unique()"
      ]
    },
    {
      "cell_type": "code",
      "execution_count": null,
      "id": "c8f41bfb-b5cb-4365-b290-7a51ddc232c4",
      "metadata": {
        "id": "c8f41bfb-b5cb-4365-b290-7a51ddc232c4"
      },
      "outputs": [],
      "source": [
        "location = zomatoB[\"location\"].value_counts()\n",
        "location_less = location[location<300]\n",
        "def handleloca(value):\n",
        "    if (value in location_less):\n",
        "        return \"others\"\n",
        "    else:\n",
        "        return value\n",
        "\n",
        "zomatoB[\"location\"] = zomatoB[\"location\"].apply(handleloca)"
      ]
    },
    {
      "cell_type": "code",
      "execution_count": null,
      "id": "8402b98e-d073-4c15-94a4-05ca7a9c5406",
      "metadata": {
        "id": "8402b98e-d073-4c15-94a4-05ca7a9c5406"
      },
      "outputs": [],
      "source": []
    },
    {
      "cell_type": "code",
      "execution_count": null,
      "id": "2d8188ca-f51b-48a5-9a36-d1296a9ef86e",
      "metadata": {
        "id": "2d8188ca-f51b-48a5-9a36-d1296a9ef86e",
        "outputId": "8676bde1-330a-4400-c62b-b05b893dd58a"
      },
      "outputs": [
        {
          "data": {
            "text/plain": [
              "location\n",
              "BTM                      5145\n",
              "others                   4707\n",
              "HSR                      2523\n",
              "Koramangala 5th Block    2504\n",
              "JP Nagar                 2235\n",
              "Whitefield               2144\n",
              "Indiranagar              2083\n",
              "Jayanagar                1926\n",
              "Marathahalli             1846\n",
              "Bannerghatta Road        1630\n",
              "Bellandur                1286\n",
              "Electronic City          1258\n",
              "Koramangala 1st Block    1238\n",
              "Brigade Road             1218\n",
              "Koramangala 7th Block    1181\n",
              "Koramangala 6th Block    1156\n",
              "Sarjapur Road            1065\n",
              "Ulsoor                   1023\n",
              "Koramangala 4th Block    1017\n",
              "MG Road                   918\n",
              "Banashankari              906\n",
              "Kalyan Nagar              853\n",
              "Richmond Road             812\n",
              "Frazer Town               727\n",
              "Malleshwaram              725\n",
              "Basavanagudi              684\n",
              "Residency Road            675\n",
              "Banaswadi                 664\n",
              "Brookefield               658\n",
              "New BEL Road              649\n",
              "Kammanahalli              648\n",
              "Rajajinagar               591\n",
              "Church Street             569\n",
              "Lavelle Road              529\n",
              "Shanti Nagar              511\n",
              "Shivajinagar              499\n",
              "Domlur                    496\n",
              "Cunningham Road           491\n",
              "Old Airport Road          446\n",
              "Ejipura                   439\n",
              "Commercial Street         370\n",
              "St. Marks Road            352\n",
              "Koramangala 8th Block     320\n",
              "Name: count, dtype: int64"
            ]
          },
          "execution_count": 518,
          "metadata": {},
          "output_type": "execute_result"
        }
      ],
      "source": [
        "zomatoB[\"location\"].value_counts()"
      ]
    },
    {
      "cell_type": "code",
      "execution_count": null,
      "id": "96ed1bad-6400-417b-b8bc-b87157866d37",
      "metadata": {
        "id": "96ed1bad-6400-417b-b8bc-b87157866d37",
        "outputId": "ed5d9840-8024-431b-e75e-90dfdf4db780"
      },
      "outputs": [
        {
          "data": {
            "text/plain": [
              "cuisines\n",
              "North Indian                                   2958\n",
              "North Indian, Chinese                          2385\n",
              "South Indian                                   1828\n",
              "Biryani                                         918\n",
              "Bakery, Desserts                                911\n",
              "                                               ... \n",
              "North Indian, Chinese, South Indian, Juices       1\n",
              "North Indian, Chinese, Kebab, Mughlai             1\n",
              "Chinese, Vietnamese, Thai, Malaysian              1\n",
              "Arabian, Lebanese, Chinese, Rolls                 1\n",
              "North Indian, Chinese, Arabian, Momos             1\n",
              "Name: count, Length: 2723, dtype: int64"
            ]
          },
          "execution_count": 519,
          "metadata": {},
          "output_type": "execute_result"
        }
      ],
      "source": [
        "zomatoB[\"cuisines\"].value_counts()"
      ]
    },
    {
      "cell_type": "code",
      "execution_count": null,
      "id": "a9ffd042-01d8-453b-b928-eae6e0712679",
      "metadata": {
        "id": "a9ffd042-01d8-453b-b928-eae6e0712679"
      },
      "outputs": [],
      "source": [
        "cuisines = zomatoB[\"cuisines\"].value_counts()\n",
        "cuisines_lesss = cuisines[cuisines<300]\n",
        "def handlelocaa(value):\n",
        "    if (value in cuisines_lesss):\n",
        "        return \"others\"\n",
        "    else:\n",
        "        return value\n",
        "\n",
        "zomatoB[\"cuisines\"] = zomatoB[\"cuisines\"].apply(handlelocaa)"
      ]
    },
    {
      "cell_type": "code",
      "execution_count": null,
      "id": "5bbbe95f-e6ab-4f04-9329-06563fe09273",
      "metadata": {
        "id": "5bbbe95f-e6ab-4f04-9329-06563fe09273",
        "outputId": "32acd3db-efe0-4653-b933-6c0b12fd068e"
      },
      "outputs": [
        {
          "data": {
            "text/plain": [
              "cuisines\n",
              "others                                 35257\n",
              "North Indian                            2958\n",
              "North Indian, Chinese                   2385\n",
              "South Indian                            1828\n",
              "Biryani                                  918\n",
              "Bakery, Desserts                         911\n",
              "Fast Food                                803\n",
              "Desserts                                 766\n",
              "Cafe                                     756\n",
              "South Indian, North Indian, Chinese      726\n",
              "Bakery                                   651\n",
              "Chinese                                  556\n",
              "Ice Cream, Desserts                      417\n",
              "Chinese, North Indian                    415\n",
              "Mithai, Street Food                      372\n",
              "Desserts, Ice Cream                      354\n",
              "North Indian, Chinese, Biryani           352\n",
              "South Indian, North Indian               343\n",
              "North Indian, South Indian               343\n",
              "North Indian, South Indian, Chinese      305\n",
              "Beverages                                301\n",
              "Name: count, dtype: int64"
            ]
          },
          "execution_count": 521,
          "metadata": {},
          "output_type": "execute_result"
        }
      ],
      "source": [
        "zomatoB[\"cuisines\"].value_counts()"
      ]
    },
    {
      "cell_type": "code",
      "execution_count": null,
      "id": "6be7138d-501f-48b0-8a77-0eb8bb6df672",
      "metadata": {
        "id": "6be7138d-501f-48b0-8a77-0eb8bb6df672",
        "outputId": "cc0994a4-c8eb-4665-eea7-991d9bc8673e"
      },
      "outputs": [
        {
          "data": {
            "text/html": [
              "<div>\n",
              "<style scoped>\n",
              "    .dataframe tbody tr th:only-of-type {\n",
              "        vertical-align: middle;\n",
              "    }\n",
              "\n",
              "    .dataframe tbody tr th {\n",
              "        vertical-align: top;\n",
              "    }\n",
              "\n",
              "    .dataframe thead th {\n",
              "        text-align: right;\n",
              "    }\n",
              "</style>\n",
              "<table border=\"1\" class=\"dataframe\">\n",
              "  <thead>\n",
              "    <tr style=\"text-align: right;\">\n",
              "      <th></th>\n",
              "      <th>name</th>\n",
              "      <th>online_order</th>\n",
              "      <th>book_table</th>\n",
              "      <th>rate</th>\n",
              "      <th>votes</th>\n",
              "      <th>location</th>\n",
              "      <th>rest_type</th>\n",
              "      <th>cuisines</th>\n",
              "      <th>cost_for_two</th>\n",
              "      <th>type</th>\n",
              "    </tr>\n",
              "  </thead>\n",
              "  <tbody>\n",
              "    <tr>\n",
              "      <th>0</th>\n",
              "      <td>Jalsa</td>\n",
              "      <td>Yes</td>\n",
              "      <td>Yes</td>\n",
              "      <td>4.1</td>\n",
              "      <td>775</td>\n",
              "      <td>Banashankari</td>\n",
              "      <td>Casual Dining</td>\n",
              "      <td>others</td>\n",
              "      <td>800.0</td>\n",
              "      <td>Buffet</td>\n",
              "    </tr>\n",
              "    <tr>\n",
              "      <th>1</th>\n",
              "      <td>Spice Elephant</td>\n",
              "      <td>Yes</td>\n",
              "      <td>No</td>\n",
              "      <td>4.1</td>\n",
              "      <td>787</td>\n",
              "      <td>Banashankari</td>\n",
              "      <td>Casual Dining</td>\n",
              "      <td>others</td>\n",
              "      <td>800.0</td>\n",
              "      <td>Buffet</td>\n",
              "    </tr>\n",
              "    <tr>\n",
              "      <th>2</th>\n",
              "      <td>San Churro Cafe</td>\n",
              "      <td>Yes</td>\n",
              "      <td>No</td>\n",
              "      <td>3.8</td>\n",
              "      <td>918</td>\n",
              "      <td>Banashankari</td>\n",
              "      <td>others</td>\n",
              "      <td>others</td>\n",
              "      <td>800.0</td>\n",
              "      <td>Buffet</td>\n",
              "    </tr>\n",
              "    <tr>\n",
              "      <th>3</th>\n",
              "      <td>Addhuri Udupi Bhojana</td>\n",
              "      <td>No</td>\n",
              "      <td>No</td>\n",
              "      <td>3.7</td>\n",
              "      <td>88</td>\n",
              "      <td>Banashankari</td>\n",
              "      <td>Quick Bites</td>\n",
              "      <td>South Indian, North Indian</td>\n",
              "      <td>300.0</td>\n",
              "      <td>Buffet</td>\n",
              "    </tr>\n",
              "    <tr>\n",
              "      <th>4</th>\n",
              "      <td>Grand Village</td>\n",
              "      <td>No</td>\n",
              "      <td>No</td>\n",
              "      <td>3.8</td>\n",
              "      <td>166</td>\n",
              "      <td>Basavanagudi</td>\n",
              "      <td>Casual Dining</td>\n",
              "      <td>others</td>\n",
              "      <td>600.0</td>\n",
              "      <td>Buffet</td>\n",
              "    </tr>\n",
              "  </tbody>\n",
              "</table>\n",
              "</div>"
            ],
            "text/plain": [
              "                    name online_order book_table  rate  votes      location  \\\n",
              "0                  Jalsa          Yes        Yes   4.1    775  Banashankari   \n",
              "1         Spice Elephant          Yes         No   4.1    787  Banashankari   \n",
              "2        San Churro Cafe          Yes         No   3.8    918  Banashankari   \n",
              "3  Addhuri Udupi Bhojana           No         No   3.7     88  Banashankari   \n",
              "4          Grand Village           No         No   3.8    166  Basavanagudi   \n",
              "\n",
              "       rest_type                    cuisines  cost_for_two    type  \n",
              "0  Casual Dining                      others         800.0  Buffet  \n",
              "1  Casual Dining                      others         800.0  Buffet  \n",
              "2         others                      others         800.0  Buffet  \n",
              "3    Quick Bites  South Indian, North Indian         300.0  Buffet  \n",
              "4  Casual Dining                      others         600.0  Buffet  "
            ]
          },
          "execution_count": 522,
          "metadata": {},
          "output_type": "execute_result"
        }
      ],
      "source": [
        "zomatoB.head()"
      ]
    },
    {
      "cell_type": "code",
      "execution_count": null,
      "id": "6d0498dc-6ab9-4749-a114-64d71cb07c3e",
      "metadata": {
        "id": "6d0498dc-6ab9-4749-a114-64d71cb07c3e",
        "outputId": "529eac23-04b0-40ec-bfae-44fc02448c31"
      },
      "outputs": [
        {
          "data": {
            "text/plain": [
              "(51717, 10)"
            ]
          },
          "execution_count": 523,
          "metadata": {},
          "output_type": "execute_result"
        }
      ],
      "source": [
        "zomatoB.shape\n"
      ]
    },
    {
      "cell_type": "code",
      "execution_count": null,
      "id": "563d2836-85d9-4f14-a6b3-29368bd6755c",
      "metadata": {
        "id": "563d2836-85d9-4f14-a6b3-29368bd6755c",
        "outputId": "81a4a911-1b5b-4641-f1a9-c5c14b9d76de"
      },
      "outputs": [
        {
          "data": {
            "text/plain": [
              "array(['Buffet', 'Cafes', 'Delivery', 'Desserts', 'Dine-out',\n",
              "       'Drinks & nightlife', 'Pubs and bars'], dtype=object)"
            ]
          },
          "execution_count": 524,
          "metadata": {},
          "output_type": "execute_result"
        }
      ],
      "source": [
        "zomatoB[\"type\"].unique()"
      ]
    },
    {
      "cell_type": "code",
      "execution_count": null,
      "id": "a5b91896-c43e-46ce-8961-c4352ea02cfd",
      "metadata": {
        "id": "a5b91896-c43e-46ce-8961-c4352ea02cfd",
        "outputId": "defa8021-3310-4e60-887a-0d1cf66bfc50"
      },
      "outputs": [
        {
          "data": {
            "text/plain": [
              "type\n",
              "Delivery              25942\n",
              "Dine-out              17779\n",
              "Desserts               3593\n",
              "Cafes                  1723\n",
              "Drinks & nightlife     1101\n",
              "Buffet                  882\n",
              "Pubs and bars           697\n",
              "Name: count, dtype: int64"
            ]
          },
          "execution_count": 525,
          "metadata": {},
          "output_type": "execute_result"
        }
      ],
      "source": [
        "zomatoB[\"type\"].value_counts()"
      ]
    },
    {
      "cell_type": "code",
      "execution_count": null,
      "id": "1e2e5223-09ec-40bd-aa90-134718bab033",
      "metadata": {
        "id": "1e2e5223-09ec-40bd-aa90-134718bab033",
        "outputId": "425b7bdb-e90b-4c6d-cbd3-4703983bfb1b"
      },
      "outputs": [
        {
          "data": {
            "text/plain": [
              "array(['Jalsa', 'Spice Elephant', 'San Churro Cafe', ..., 'Nawabs Empire',\n",
              "       'SeeYa Restaurant',\n",
              "       'Plunge - Sheraton Grand Bengaluru Whitefield Hotel &...'],\n",
              "      dtype=object)"
            ]
          },
          "execution_count": 526,
          "metadata": {},
          "output_type": "execute_result"
        }
      ],
      "source": [
        "zomatoB[\"name\"].unique()"
      ]
    },
    {
      "cell_type": "code",
      "execution_count": null,
      "id": "c9150b4b-bffb-4d2e-a0ce-89638542174b",
      "metadata": {
        "id": "c9150b4b-bffb-4d2e-a0ce-89638542174b",
        "outputId": "86a09380-1c19-4f21-af3b-08044b71e1d7"
      },
      "outputs": [
        {
          "data": {
            "text/plain": [
              "name\n",
              "Cafe Coffee Day                                            96\n",
              "Onesta                                                     85\n",
              "Just Bake                                                  73\n",
              "Empire Restaurant                                          71\n",
              "Five Star Chicken                                          70\n",
              "                                                           ..\n",
              "Natis                                                       1\n",
              "Shreyas                                                     1\n",
              "Vishwas Kabab Centre                                        1\n",
              "Taj Biryani Centre                                          1\n",
              "Plunge - Sheraton Grand Bengaluru Whitefield Hotel &...     1\n",
              "Name: count, Length: 8792, dtype: int64"
            ]
          },
          "execution_count": 527,
          "metadata": {},
          "output_type": "execute_result"
        }
      ],
      "source": [
        "zomatoB[\"name\"].value_counts()"
      ]
    },
    {
      "cell_type": "code",
      "execution_count": null,
      "id": "4f9821d6-44d9-4c51-a0fd-63748adb9b40",
      "metadata": {
        "id": "4f9821d6-44d9-4c51-a0fd-63748adb9b40"
      },
      "outputs": [],
      "source": [
        "name = zomatoB[\"name\"].value_counts()\n",
        "name_lesss = name[name<50]\n",
        "def handlename(value):\n",
        "    if (value in name_lesss):\n",
        "        return \"others\"\n",
        "    else:\n",
        "        return value\n",
        "\n",
        "zomatoB[\"name\"] = zomatoB[\"name\"].apply(handlename)"
      ]
    },
    {
      "cell_type": "code",
      "execution_count": null,
      "id": "4be0aa11-4b77-4820-aacb-3e07fe1ad8a8",
      "metadata": {
        "id": "4be0aa11-4b77-4820-aacb-3e07fe1ad8a8",
        "outputId": "95c4e034-cf9c-4c80-f620-02be0a2b4d7a"
      },
      "outputs": [
        {
          "data": {
            "text/plain": [
              "name\n",
              "others                       49569\n",
              "Cafe Coffee Day                 96\n",
              "Onesta                          85\n",
              "Just Bake                       73\n",
              "Empire Restaurant               71\n",
              "Five Star Chicken               70\n",
              "Kanti Sweets                    68\n",
              "Petoo                           66\n",
              "Polar Bear                      65\n",
              "Baskin Robbins                  64\n",
              "Chef Baker's                    62\n",
              "Pizza Hut                       62\n",
              "Subway                          60\n",
              "Beijing Bites                   60\n",
              "Domino's Pizza                  60\n",
              "KFC                             60\n",
              "Sweet Truth                     60\n",
              "Smoor                           59\n",
              "McDonald's                      59\n",
              "Chai Point                      58\n",
              "Faasos                          57\n",
              "Lassi Shop                      56\n",
              "Burger King                     55\n",
              "Keventers                       54\n",
              "Smally's Resto Cafe             54\n",
              "The French Loaf                 53\n",
              "Ambur Hot Dum Biryani           53\n",
              "Corner House Ice Cream          52\n",
              "Tata Cha                        52\n",
              "Lakeview Milkbar                52\n",
              "Frozen Bottle                   51\n",
              "Rolls On Wheels                 51\n",
              "Pizza Stop                      50\n",
              "A2B - Adyar Ananda Bhavan       50\n",
              "Chung Wah                       50\n",
              "eat.fit                         50\n",
              "Sweet Chariot                   50\n",
              "Name: count, dtype: int64"
            ]
          },
          "execution_count": 529,
          "metadata": {},
          "output_type": "execute_result"
        }
      ],
      "source": [
        "zomatoB[\"name\"].value_counts()"
      ]
    },
    {
      "cell_type": "code",
      "execution_count": null,
      "id": "6ce758b9-ef45-4851-b93f-d98de611d639",
      "metadata": {
        "id": "6ce758b9-ef45-4851-b93f-d98de611d639",
        "outputId": "bb289983-7a21-47e9-b4e5-32f02b129e27"
      },
      "outputs": [
        {
          "data": {
            "text/html": [
              "<div>\n",
              "<style scoped>\n",
              "    .dataframe tbody tr th:only-of-type {\n",
              "        vertical-align: middle;\n",
              "    }\n",
              "\n",
              "    .dataframe tbody tr th {\n",
              "        vertical-align: top;\n",
              "    }\n",
              "\n",
              "    .dataframe thead th {\n",
              "        text-align: right;\n",
              "    }\n",
              "</style>\n",
              "<table border=\"1\" class=\"dataframe\">\n",
              "  <thead>\n",
              "    <tr style=\"text-align: right;\">\n",
              "      <th></th>\n",
              "      <th>name</th>\n",
              "      <th>online_order</th>\n",
              "      <th>book_table</th>\n",
              "      <th>rate</th>\n",
              "      <th>votes</th>\n",
              "      <th>location</th>\n",
              "      <th>rest_type</th>\n",
              "      <th>cuisines</th>\n",
              "      <th>cost_for_two</th>\n",
              "      <th>type</th>\n",
              "    </tr>\n",
              "  </thead>\n",
              "  <tbody>\n",
              "    <tr>\n",
              "      <th>0</th>\n",
              "      <td>others</td>\n",
              "      <td>Yes</td>\n",
              "      <td>Yes</td>\n",
              "      <td>4.1</td>\n",
              "      <td>775</td>\n",
              "      <td>Banashankari</td>\n",
              "      <td>Casual Dining</td>\n",
              "      <td>others</td>\n",
              "      <td>800.0</td>\n",
              "      <td>Buffet</td>\n",
              "    </tr>\n",
              "    <tr>\n",
              "      <th>1</th>\n",
              "      <td>others</td>\n",
              "      <td>Yes</td>\n",
              "      <td>No</td>\n",
              "      <td>4.1</td>\n",
              "      <td>787</td>\n",
              "      <td>Banashankari</td>\n",
              "      <td>Casual Dining</td>\n",
              "      <td>others</td>\n",
              "      <td>800.0</td>\n",
              "      <td>Buffet</td>\n",
              "    </tr>\n",
              "    <tr>\n",
              "      <th>2</th>\n",
              "      <td>others</td>\n",
              "      <td>Yes</td>\n",
              "      <td>No</td>\n",
              "      <td>3.8</td>\n",
              "      <td>918</td>\n",
              "      <td>Banashankari</td>\n",
              "      <td>others</td>\n",
              "      <td>others</td>\n",
              "      <td>800.0</td>\n",
              "      <td>Buffet</td>\n",
              "    </tr>\n",
              "    <tr>\n",
              "      <th>3</th>\n",
              "      <td>others</td>\n",
              "      <td>No</td>\n",
              "      <td>No</td>\n",
              "      <td>3.7</td>\n",
              "      <td>88</td>\n",
              "      <td>Banashankari</td>\n",
              "      <td>Quick Bites</td>\n",
              "      <td>South Indian, North Indian</td>\n",
              "      <td>300.0</td>\n",
              "      <td>Buffet</td>\n",
              "    </tr>\n",
              "    <tr>\n",
              "      <th>4</th>\n",
              "      <td>others</td>\n",
              "      <td>No</td>\n",
              "      <td>No</td>\n",
              "      <td>3.8</td>\n",
              "      <td>166</td>\n",
              "      <td>Basavanagudi</td>\n",
              "      <td>Casual Dining</td>\n",
              "      <td>others</td>\n",
              "      <td>600.0</td>\n",
              "      <td>Buffet</td>\n",
              "    </tr>\n",
              "  </tbody>\n",
              "</table>\n",
              "</div>"
            ],
            "text/plain": [
              "     name online_order book_table  rate  votes      location      rest_type  \\\n",
              "0  others          Yes        Yes   4.1    775  Banashankari  Casual Dining   \n",
              "1  others          Yes         No   4.1    787  Banashankari  Casual Dining   \n",
              "2  others          Yes         No   3.8    918  Banashankari         others   \n",
              "3  others           No         No   3.7     88  Banashankari    Quick Bites   \n",
              "4  others           No         No   3.8    166  Basavanagudi  Casual Dining   \n",
              "\n",
              "                     cuisines  cost_for_two    type  \n",
              "0                      others         800.0  Buffet  \n",
              "1                      others         800.0  Buffet  \n",
              "2                      others         800.0  Buffet  \n",
              "3  South Indian, North Indian         300.0  Buffet  \n",
              "4                      others         600.0  Buffet  "
            ]
          },
          "execution_count": 530,
          "metadata": {},
          "output_type": "execute_result"
        }
      ],
      "source": [
        "zomatoB.head()"
      ]
    },
    {
      "cell_type": "code",
      "execution_count": null,
      "id": "48654483-1d3e-4777-a38d-47276b244468",
      "metadata": {
        "id": "48654483-1d3e-4777-a38d-47276b244468",
        "outputId": "ce0665ae-c96e-4e53-f972-7d5bf8583db7"
      },
      "outputs": [
        {
          "data": {
            "text/plain": [
              "(51717, 10)"
            ]
          },
          "execution_count": 531,
          "metadata": {},
          "output_type": "execute_result"
        }
      ],
      "source": [
        "zomatoB.shape"
      ]
    },
    {
      "cell_type": "code",
      "execution_count": null,
      "id": "2187fcce-f062-49a0-9e17-ef908ef2b448",
      "metadata": {
        "id": "2187fcce-f062-49a0-9e17-ef908ef2b448",
        "outputId": "ef4fbf67-33d0-464e-bdbb-48731b1e227c"
      },
      "outputs": [
        {
          "data": {
            "text/plain": [
              "array(['Yes', 'No'], dtype=object)"
            ]
          },
          "execution_count": 532,
          "metadata": {},
          "output_type": "execute_result"
        }
      ],
      "source": [
        "zomatoB[\"online_order\"].unique()"
      ]
    },
    {
      "cell_type": "code",
      "execution_count": null,
      "id": "c6bf240b-1b33-48e0-9f39-e12913461f0a",
      "metadata": {
        "id": "c6bf240b-1b33-48e0-9f39-e12913461f0a",
        "outputId": "027c9d0f-5ef9-4b22-ba71-727f58a6291c"
      },
      "outputs": [
        {
          "data": {
            "image/png": "[encoded data removed]",
            "text/plain": [
              "<Figure size 1600x1000 with 1 Axes>"
            ]
          },
          "metadata": {},
          "output_type": "display_data"
        }
      ],
      "source": [
        "import seaborn as sns\n",
        "plt.figure(figsize=(16,10))\n",
        "lo =sns.countplot(zomatoB[\"location\"])\n",
        "plt.xticks(rotation=90)\n",
        "plt.show()"
      ]
    },
    {
      "cell_type": "code",
      "execution_count": null,
      "id": "621a0c3b-0cfb-42f8-adc4-a3631d374d91",
      "metadata": {
        "id": "621a0c3b-0cfb-42f8-adc4-a3631d374d91",
        "outputId": "2f03515a-dd08-4607-c0f7-2546507588a8"
      },
      "outputs": [
        {
          "name": "stderr",
          "output_type": "stream",
          "text": [
            "C:\\Users\\HP\\AppData\\Local\\Temp\\ipykernel_11180\\3712877230.py:4: FutureWarning: \n",
            "\n",
            "Passing `palette` without assigning `hue` is deprecated and will be removed in v0.14.0. Assign the `y` variable to `hue` and set `legend=False` for the same effect.\n",
            "\n",
            "  sns.countplot(zomatoB[\"online_order\"],palette=[\"red\",\"blue\"])\n"
          ]
        },
        {
          "data": {
            "image/png": "[encoded data removed]",
            "text/plain": [
              "<Figure size 600x600 with 1 Axes>"
            ]
          },
          "metadata": {},
          "output_type": "display_data"
        }
      ],
      "source": [
        "import seaborn as sns\n",
        "plt.figure(figsize=(6,6))\n",
        "\n",
        "sns.countplot(zomatoB[\"online_order\"],palette=[\"red\",\"blue\"])\n",
        "plt.xticks(rotation=45)\n",
        "plt.show()"
      ]
    },
    {
      "cell_type": "code",
      "execution_count": null,
      "id": "568d566a-5b48-4e41-8d2a-136da7c36224",
      "metadata": {
        "id": "568d566a-5b48-4e41-8d2a-136da7c36224",
        "outputId": "1a194487-8f7f-4d47-a7d9-708a454e9c6a"
      },
      "outputs": [
        {
          "name": "stderr",
          "output_type": "stream",
          "text": [
            "C:\\Users\\HP\\AppData\\Local\\Temp\\ipykernel_11180\\3044385639.py:3: FutureWarning: \n",
            "\n",
            "Passing `palette` without assigning `hue` is deprecated and will be removed in v0.14.0. Assign the `y` variable to `hue` and set `legend=False` for the same effect.\n",
            "\n",
            "  sns.countplot(zomatoB[\"book_table\"],palette=[\"red\",\"blue\"])\n"
          ]
        },
        {
          "data": {
            "image/png": "[encoded data removed]",
            "text/plain": [
              "<Figure size 600x600 with 1 Axes>"
            ]
          },
          "metadata": {},
          "output_type": "display_data"
        }
      ],
      "source": [
        "plt.figure(figsize=(6,6))\n",
        "\n",
        "sns.countplot(zomatoB[\"book_table\"],palette=[\"red\",\"blue\"])\n",
        "plt.xticks(rotation=45)\n",
        "plt.show()"
      ]
    },
    {
      "cell_type": "code",
      "execution_count": null,
      "id": "6ff6b3f2-5124-4eb7-9021-5cca880ae5b4",
      "metadata": {
        "id": "6ff6b3f2-5124-4eb7-9021-5cca880ae5b4",
        "outputId": "7bf17da9-79a3-4028-e005-fe5379bfc31e"
      },
      "outputs": [
        {
          "data": {
            "image/png": "[encoded data removed]",
            "text/plain": [
              "<Figure size 640x480 with 1 Axes>"
            ]
          },
          "metadata": {},
          "output_type": "display_data"
        }
      ],
      "source": [
        "\n",
        "\n",
        "sns.boxplot(x=\"online_order\",y=\"rate\",data = zomatoB)\n",
        "plt.xticks(rotation=45)\n",
        "plt.show()"
      ]
    },
    {
      "cell_type": "code",
      "execution_count": null,
      "id": "10b42b9d-5b10-4adc-8d8e-8b789cb80795",
      "metadata": {
        "id": "10b42b9d-5b10-4adc-8d8e-8b789cb80795",
        "outputId": "4e57ea2b-2fdf-4064-8aab-204b4bcbc9d0"
      },
      "outputs": [
        {
          "data": {
            "image/png": "[encoded data removed]",
            "text/plain": [
              "<Figure size 600x600 with 1 Axes>"
            ]
          },
          "metadata": {},
          "output_type": "display_data"
        }
      ],
      "source": [
        "plt.figure(figsize=(6,6))\n",
        "\n",
        "sns.boxplot(zomatoB[\"rate\"])\n",
        "plt.xticks(rotation=45)\n",
        "plt.show()"
      ]
    },
    {
      "cell_type": "code",
      "execution_count": null,
      "id": "1fcaa1ab-4a8f-45ca-afa6-03cd458ebe3a",
      "metadata": {
        "id": "1fcaa1ab-4a8f-45ca-afa6-03cd458ebe3a",
        "outputId": "5d5aa5e9-c1e5-42be-b570-48b6ae703342"
      },
      "outputs": [
        {
          "data": {
            "image/png": "[encoded data removed]",
            "text/plain": [
              "<Figure size 640x480 with 1 Axes>"
            ]
          },
          "metadata": {},
          "output_type": "display_data"
        }
      ],
      "source": [
        "\n",
        "sns.boxplot(x=\"book_table\",y=\"rate\",data = zomatoB)\n",
        "plt.xticks(rotation=45)\n",
        "plt.show()"
      ]
    },
    {
      "cell_type": "code",
      "execution_count": null,
      "id": "93a02353-6159-428a-bc04-e12792ee55bd",
      "metadata": {
        "id": "93a02353-6159-428a-bc04-e12792ee55bd",
        "outputId": "e5e60d8c-3df7-45cd-9581-78c014b9bb4c"
      },
      "outputs": [
        {
          "name": "stderr",
          "output_type": "stream",
          "text": [
            "C:\\Users\\HP\\AppData\\Local\\Temp\\ipykernel_11180\\261348723.py:14: FutureWarning: The provided callable <function sum at 0x0000023786274900> is currently using DataFrameGroupBy.sum. In a future version of pandas, the provided callable will be used directly. To keep current behavior pass the string \"sum\" instead.\n",
            "  df_pivot = pd.pivot_table(df, values=\"name\", index=[\"location\"], columns=[\"online_order\"], fill_value=0, aggfunc=np.sum)\n"
          ]
        },
        {
          "data": {
            "text/html": [
              "<div>\n",
              "<style scoped>\n",
              "    .dataframe tbody tr th:only-of-type {\n",
              "        vertical-align: middle;\n",
              "    }\n",
              "\n",
              "    .dataframe tbody tr th {\n",
              "        vertical-align: top;\n",
              "    }\n",
              "\n",
              "    .dataframe thead th {\n",
              "        text-align: right;\n",
              "    }\n",
              "</style>\n",
              "<table border=\"1\" class=\"dataframe\">\n",
              "  <thead>\n",
              "    <tr style=\"text-align: right;\">\n",
              "      <th>online_order</th>\n",
              "      <th>No</th>\n",
              "      <th>Yes</th>\n",
              "    </tr>\n",
              "    <tr>\n",
              "      <th>location</th>\n",
              "      <th></th>\n",
              "      <th></th>\n",
              "    </tr>\n",
              "  </thead>\n",
              "  <tbody>\n",
              "    <tr>\n",
              "      <th>BTM</th>\n",
              "      <td>1813</td>\n",
              "      <td>3332</td>\n",
              "    </tr>\n",
              "    <tr>\n",
              "      <th>Banashankari</th>\n",
              "      <td>397</td>\n",
              "      <td>509</td>\n",
              "    </tr>\n",
              "    <tr>\n",
              "      <th>Banaswadi</th>\n",
              "      <td>321</td>\n",
              "      <td>343</td>\n",
              "    </tr>\n",
              "    <tr>\n",
              "      <th>Bannerghatta Road</th>\n",
              "      <td>706</td>\n",
              "      <td>924</td>\n",
              "    </tr>\n",
              "    <tr>\n",
              "      <th>Basavanagudi</th>\n",
              "      <td>243</td>\n",
              "      <td>441</td>\n",
              "    </tr>\n",
              "    <tr>\n",
              "      <th>Bellandur</th>\n",
              "      <td>525</td>\n",
              "      <td>761</td>\n",
              "    </tr>\n",
              "    <tr>\n",
              "      <th>Brigade Road</th>\n",
              "      <td>553</td>\n",
              "      <td>665</td>\n",
              "    </tr>\n",
              "    <tr>\n",
              "      <th>Brookefield</th>\n",
              "      <td>241</td>\n",
              "      <td>417</td>\n",
              "    </tr>\n",
              "    <tr>\n",
              "      <th>Church Street</th>\n",
              "      <td>226</td>\n",
              "      <td>343</td>\n",
              "    </tr>\n",
              "    <tr>\n",
              "      <th>Commercial Street</th>\n",
              "      <td>228</td>\n",
              "      <td>142</td>\n",
              "    </tr>\n",
              "    <tr>\n",
              "      <th>Cunningham Road</th>\n",
              "      <td>168</td>\n",
              "      <td>323</td>\n",
              "    </tr>\n",
              "    <tr>\n",
              "      <th>Domlur</th>\n",
              "      <td>261</td>\n",
              "      <td>235</td>\n",
              "    </tr>\n",
              "    <tr>\n",
              "      <th>Ejipura</th>\n",
              "      <td>219</td>\n",
              "      <td>220</td>\n",
              "    </tr>\n",
              "    <tr>\n",
              "      <th>Electronic City</th>\n",
              "      <td>681</td>\n",
              "      <td>577</td>\n",
              "    </tr>\n",
              "    <tr>\n",
              "      <th>Frazer Town</th>\n",
              "      <td>295</td>\n",
              "      <td>432</td>\n",
              "    </tr>\n",
              "    <tr>\n",
              "      <th>HSR</th>\n",
              "      <td>603</td>\n",
              "      <td>1920</td>\n",
              "    </tr>\n",
              "    <tr>\n",
              "      <th>Indiranagar</th>\n",
              "      <td>748</td>\n",
              "      <td>1335</td>\n",
              "    </tr>\n",
              "    <tr>\n",
              "      <th>JP Nagar</th>\n",
              "      <td>917</td>\n",
              "      <td>1318</td>\n",
              "    </tr>\n",
              "    <tr>\n",
              "      <th>Jayanagar</th>\n",
              "      <td>562</td>\n",
              "      <td>1364</td>\n",
              "    </tr>\n",
              "    <tr>\n",
              "      <th>Kalyan Nagar</th>\n",
              "      <td>355</td>\n",
              "      <td>498</td>\n",
              "    </tr>\n",
              "    <tr>\n",
              "      <th>Kammanahalli</th>\n",
              "      <td>268</td>\n",
              "      <td>380</td>\n",
              "    </tr>\n",
              "    <tr>\n",
              "      <th>Koramangala 1st Block</th>\n",
              "      <td>385</td>\n",
              "      <td>853</td>\n",
              "    </tr>\n",
              "    <tr>\n",
              "      <th>Koramangala 4th Block</th>\n",
              "      <td>459</td>\n",
              "      <td>558</td>\n",
              "    </tr>\n",
              "    <tr>\n",
              "      <th>Koramangala 5th Block</th>\n",
              "      <td>890</td>\n",
              "      <td>1614</td>\n",
              "    </tr>\n",
              "    <tr>\n",
              "      <th>Koramangala 6th Block</th>\n",
              "      <td>457</td>\n",
              "      <td>699</td>\n",
              "    </tr>\n",
              "    <tr>\n",
              "      <th>Koramangala 7th Block</th>\n",
              "      <td>395</td>\n",
              "      <td>786</td>\n",
              "    </tr>\n",
              "    <tr>\n",
              "      <th>Koramangala 8th Block</th>\n",
              "      <td>108</td>\n",
              "      <td>212</td>\n",
              "    </tr>\n",
              "    <tr>\n",
              "      <th>Lavelle Road</th>\n",
              "      <td>323</td>\n",
              "      <td>206</td>\n",
              "    </tr>\n",
              "    <tr>\n",
              "      <th>MG Road</th>\n",
              "      <td>544</td>\n",
              "      <td>374</td>\n",
              "    </tr>\n",
              "    <tr>\n",
              "      <th>Malleshwaram</th>\n",
              "      <td>310</td>\n",
              "      <td>415</td>\n",
              "    </tr>\n",
              "    <tr>\n",
              "      <th>Marathahalli</th>\n",
              "      <td>734</td>\n",
              "      <td>1112</td>\n",
              "    </tr>\n",
              "    <tr>\n",
              "      <th>New BEL Road</th>\n",
              "      <td>257</td>\n",
              "      <td>392</td>\n",
              "    </tr>\n",
              "    <tr>\n",
              "      <th>Old Airport Road</th>\n",
              "      <td>230</td>\n",
              "      <td>216</td>\n",
              "    </tr>\n",
              "    <tr>\n",
              "      <th>Rajajinagar</th>\n",
              "      <td>286</td>\n",
              "      <td>305</td>\n",
              "    </tr>\n",
              "    <tr>\n",
              "      <th>Residency Road</th>\n",
              "      <td>427</td>\n",
              "      <td>248</td>\n",
              "    </tr>\n",
              "    <tr>\n",
              "      <th>Richmond Road</th>\n",
              "      <td>565</td>\n",
              "      <td>247</td>\n",
              "    </tr>\n",
              "    <tr>\n",
              "      <th>Sarjapur Road</th>\n",
              "      <td>336</td>\n",
              "      <td>729</td>\n",
              "    </tr>\n",
              "    <tr>\n",
              "      <th>Shanti Nagar</th>\n",
              "      <td>289</td>\n",
              "      <td>222</td>\n",
              "    </tr>\n",
              "    <tr>\n",
              "      <th>Shivajinagar</th>\n",
              "      <td>354</td>\n",
              "      <td>145</td>\n",
              "    </tr>\n",
              "    <tr>\n",
              "      <th>St. Marks Road</th>\n",
              "      <td>185</td>\n",
              "      <td>167</td>\n",
              "    </tr>\n",
              "    <tr>\n",
              "      <th>Ulsoor</th>\n",
              "      <td>395</td>\n",
              "      <td>628</td>\n",
              "    </tr>\n",
              "    <tr>\n",
              "      <th>Whitefield</th>\n",
              "      <td>1005</td>\n",
              "      <td>1139</td>\n",
              "    </tr>\n",
              "    <tr>\n",
              "      <th>others</th>\n",
              "      <td>2009</td>\n",
              "      <td>2698</td>\n",
              "    </tr>\n",
              "  </tbody>\n",
              "</table>\n",
              "</div>"
            ],
            "text/plain": [
              "online_order             No   Yes\n",
              "location                         \n",
              "BTM                    1813  3332\n",
              "Banashankari            397   509\n",
              "Banaswadi               321   343\n",
              "Bannerghatta Road       706   924\n",
              "Basavanagudi            243   441\n",
              "Bellandur               525   761\n",
              "Brigade Road            553   665\n",
              "Brookefield             241   417\n",
              "Church Street           226   343\n",
              "Commercial Street       228   142\n",
              "Cunningham Road         168   323\n",
              "Domlur                  261   235\n",
              "Ejipura                 219   220\n",
              "Electronic City         681   577\n",
              "Frazer Town             295   432\n",
              "HSR                     603  1920\n",
              "Indiranagar             748  1335\n",
              "JP Nagar                917  1318\n",
              "Jayanagar               562  1364\n",
              "Kalyan Nagar            355   498\n",
              "Kammanahalli            268   380\n",
              "Koramangala 1st Block   385   853\n",
              "Koramangala 4th Block   459   558\n",
              "Koramangala 5th Block   890  1614\n",
              "Koramangala 6th Block   457   699\n",
              "Koramangala 7th Block   395   786\n",
              "Koramangala 8th Block   108   212\n",
              "Lavelle Road            323   206\n",
              "MG Road                 544   374\n",
              "Malleshwaram            310   415\n",
              "Marathahalli            734  1112\n",
              "New BEL Road            257   392\n",
              "Old Airport Road        230   216\n",
              "Rajajinagar             286   305\n",
              "Residency Road          427   248\n",
              "Richmond Road           565   247\n",
              "Sarjapur Road           336   729\n",
              "Shanti Nagar            289   222\n",
              "Shivajinagar            354   145\n",
              "St. Marks Road          185   167\n",
              "Ulsoor                  395   628\n",
              "Whitefield             1005  1139\n",
              "others                 2009  2698"
            ]
          },
          "execution_count": 540,
          "metadata": {},
          "output_type": "execute_result"
        }
      ],
      "source": [
        "import pandas as pd\n",
        "import numpy as np\n",
        "\n",
        "# Group by location and online_order and count the names\n",
        "df = zomatoB.groupby([\"location\", \"online_order\"])[\"name\"].count()\n",
        "\n",
        "# Save the grouped data to a CSV file\n",
        "df.to_csv(\"location_online.csv\")\n",
        "\n",
        "# Read the CSV file\n",
        "df = pd.read_csv(\"location_online.csv\")\n",
        "\n",
        "# Pivot the table to make 'online_order' a column\n",
        "df_pivot = pd.pivot_table(df, values=\"name\", index=[\"location\"], columns=[\"online_order\"], fill_value=0, aggfunc=np.sum)\n",
        "\n",
        "# Show the pivot table\n",
        "df_pivot\n"
      ]
    },
    {
      "cell_type": "code",
      "execution_count": null,
      "id": "5adcc958-f095-49f2-b487-edb1be3db11d",
      "metadata": {
        "id": "5adcc958-f095-49f2-b487-edb1be3db11d",
        "outputId": "c7eb3532-f5b2-4e7f-f426-aa13077bd91c"
      },
      "outputs": [
        {
          "data": {
            "image/png": "[encoded data removed]",
            "text/plain": [
              "<Figure size 1500x800 with 1 Axes>"
            ]
          },
          "metadata": {},
          "output_type": "display_data"
        }
      ],
      "source": [
        "df_pivot.plot(kind=\"bar\",figsize=(15,8))\n",
        "plt.show()"
      ]
    },
    {
      "cell_type": "code",
      "execution_count": null,
      "id": "db85d3ff-0882-4686-a249-cdfa589bfca1",
      "metadata": {
        "id": "db85d3ff-0882-4686-a249-cdfa589bfca1",
        "outputId": "1aafb057-a309-43d8-d2fc-429b5c1bc5dc"
      },
      "outputs": [
        {
          "name": "stderr",
          "output_type": "stream",
          "text": [
            "C:\\Users\\HP\\AppData\\Local\\Temp\\ipykernel_11180\\2777195820.py:11: FutureWarning: The provided callable <function sum at 0x0000023786274900> is currently using DataFrameGroupBy.sum. In a future version of pandas, the provided callable will be used directly. To keep current behavior pass the string \"sum\" instead.\n",
            "  df2_pivot = pd.pivot_table(df2, values=\"name\", index=[\"location\"], columns=[\"book_table\"], fill_value=0, aggfunc=np.sum)\n"
          ]
        },
        {
          "data": {
            "text/html": [
              "<div>\n",
              "<style scoped>\n",
              "    .dataframe tbody tr th:only-of-type {\n",
              "        vertical-align: middle;\n",
              "    }\n",
              "\n",
              "    .dataframe tbody tr th {\n",
              "        vertical-align: top;\n",
              "    }\n",
              "\n",
              "    .dataframe thead th {\n",
              "        text-align: right;\n",
              "    }\n",
              "</style>\n",
              "<table border=\"1\" class=\"dataframe\">\n",
              "  <thead>\n",
              "    <tr style=\"text-align: right;\">\n",
              "      <th>book_table</th>\n",
              "      <th>No</th>\n",
              "      <th>Yes</th>\n",
              "    </tr>\n",
              "    <tr>\n",
              "      <th>location</th>\n",
              "      <th></th>\n",
              "      <th></th>\n",
              "    </tr>\n",
              "  </thead>\n",
              "  <tbody>\n",
              "    <tr>\n",
              "      <th>BTM</th>\n",
              "      <td>4977</td>\n",
              "      <td>168</td>\n",
              "    </tr>\n",
              "    <tr>\n",
              "      <th>Banashankari</th>\n",
              "      <td>842</td>\n",
              "      <td>64</td>\n",
              "    </tr>\n",
              "    <tr>\n",
              "      <th>Banaswadi</th>\n",
              "      <td>656</td>\n",
              "      <td>8</td>\n",
              "    </tr>\n",
              "    <tr>\n",
              "      <th>Bannerghatta Road</th>\n",
              "      <td>1531</td>\n",
              "      <td>99</td>\n",
              "    </tr>\n",
              "    <tr>\n",
              "      <th>Basavanagudi</th>\n",
              "      <td>668</td>\n",
              "      <td>16</td>\n",
              "    </tr>\n",
              "    <tr>\n",
              "      <th>Bellandur</th>\n",
              "      <td>1188</td>\n",
              "      <td>98</td>\n",
              "    </tr>\n",
              "    <tr>\n",
              "      <th>Brigade Road</th>\n",
              "      <td>1039</td>\n",
              "      <td>179</td>\n",
              "    </tr>\n",
              "    <tr>\n",
              "      <th>Brookefield</th>\n",
              "      <td>584</td>\n",
              "      <td>74</td>\n",
              "    </tr>\n",
              "    <tr>\n",
              "      <th>Church Street</th>\n",
              "      <td>387</td>\n",
              "      <td>182</td>\n",
              "    </tr>\n",
              "    <tr>\n",
              "      <th>Commercial Street</th>\n",
              "      <td>370</td>\n",
              "      <td>0</td>\n",
              "    </tr>\n",
              "    <tr>\n",
              "      <th>Cunningham Road</th>\n",
              "      <td>316</td>\n",
              "      <td>175</td>\n",
              "    </tr>\n",
              "    <tr>\n",
              "      <th>Domlur</th>\n",
              "      <td>441</td>\n",
              "      <td>55</td>\n",
              "    </tr>\n",
              "    <tr>\n",
              "      <th>Ejipura</th>\n",
              "      <td>439</td>\n",
              "      <td>0</td>\n",
              "    </tr>\n",
              "    <tr>\n",
              "      <th>Electronic City</th>\n",
              "      <td>1159</td>\n",
              "      <td>99</td>\n",
              "    </tr>\n",
              "    <tr>\n",
              "      <th>Frazer Town</th>\n",
              "      <td>719</td>\n",
              "      <td>8</td>\n",
              "    </tr>\n",
              "    <tr>\n",
              "      <th>HSR</th>\n",
              "      <td>2306</td>\n",
              "      <td>217</td>\n",
              "    </tr>\n",
              "    <tr>\n",
              "      <th>Indiranagar</th>\n",
              "      <td>1629</td>\n",
              "      <td>454</td>\n",
              "    </tr>\n",
              "    <tr>\n",
              "      <th>JP Nagar</th>\n",
              "      <td>1920</td>\n",
              "      <td>315</td>\n",
              "    </tr>\n",
              "    <tr>\n",
              "      <th>Jayanagar</th>\n",
              "      <td>1647</td>\n",
              "      <td>279</td>\n",
              "    </tr>\n",
              "    <tr>\n",
              "      <th>Kalyan Nagar</th>\n",
              "      <td>704</td>\n",
              "      <td>149</td>\n",
              "    </tr>\n",
              "    <tr>\n",
              "      <th>Kammanahalli</th>\n",
              "      <td>599</td>\n",
              "      <td>49</td>\n",
              "    </tr>\n",
              "    <tr>\n",
              "      <th>Koramangala 1st Block</th>\n",
              "      <td>1188</td>\n",
              "      <td>50</td>\n",
              "    </tr>\n",
              "    <tr>\n",
              "      <th>Koramangala 4th Block</th>\n",
              "      <td>695</td>\n",
              "      <td>322</td>\n",
              "    </tr>\n",
              "    <tr>\n",
              "      <th>Koramangala 5th Block</th>\n",
              "      <td>1812</td>\n",
              "      <td>692</td>\n",
              "    </tr>\n",
              "    <tr>\n",
              "      <th>Koramangala 6th Block</th>\n",
              "      <td>1043</td>\n",
              "      <td>113</td>\n",
              "    </tr>\n",
              "    <tr>\n",
              "      <th>Koramangala 7th Block</th>\n",
              "      <td>1017</td>\n",
              "      <td>164</td>\n",
              "    </tr>\n",
              "    <tr>\n",
              "      <th>Koramangala 8th Block</th>\n",
              "      <td>303</td>\n",
              "      <td>17</td>\n",
              "    </tr>\n",
              "    <tr>\n",
              "      <th>Lavelle Road</th>\n",
              "      <td>297</td>\n",
              "      <td>232</td>\n",
              "    </tr>\n",
              "    <tr>\n",
              "      <th>MG Road</th>\n",
              "      <td>571</td>\n",
              "      <td>347</td>\n",
              "    </tr>\n",
              "    <tr>\n",
              "      <th>Malleshwaram</th>\n",
              "      <td>636</td>\n",
              "      <td>89</td>\n",
              "    </tr>\n",
              "    <tr>\n",
              "      <th>Marathahalli</th>\n",
              "      <td>1680</td>\n",
              "      <td>166</td>\n",
              "    </tr>\n",
              "    <tr>\n",
              "      <th>New BEL Road</th>\n",
              "      <td>593</td>\n",
              "      <td>56</td>\n",
              "    </tr>\n",
              "    <tr>\n",
              "      <th>Old Airport Road</th>\n",
              "      <td>387</td>\n",
              "      <td>59</td>\n",
              "    </tr>\n",
              "    <tr>\n",
              "      <th>Rajajinagar</th>\n",
              "      <td>550</td>\n",
              "      <td>41</td>\n",
              "    </tr>\n",
              "    <tr>\n",
              "      <th>Residency Road</th>\n",
              "      <td>524</td>\n",
              "      <td>151</td>\n",
              "    </tr>\n",
              "    <tr>\n",
              "      <th>Richmond Road</th>\n",
              "      <td>696</td>\n",
              "      <td>116</td>\n",
              "    </tr>\n",
              "    <tr>\n",
              "      <th>Sarjapur Road</th>\n",
              "      <td>909</td>\n",
              "      <td>156</td>\n",
              "    </tr>\n",
              "    <tr>\n",
              "      <th>Shanti Nagar</th>\n",
              "      <td>453</td>\n",
              "      <td>58</td>\n",
              "    </tr>\n",
              "    <tr>\n",
              "      <th>Shivajinagar</th>\n",
              "      <td>476</td>\n",
              "      <td>23</td>\n",
              "    </tr>\n",
              "    <tr>\n",
              "      <th>St. Marks Road</th>\n",
              "      <td>228</td>\n",
              "      <td>124</td>\n",
              "    </tr>\n",
              "    <tr>\n",
              "      <th>Ulsoor</th>\n",
              "      <td>846</td>\n",
              "      <td>177</td>\n",
              "    </tr>\n",
              "    <tr>\n",
              "      <th>Whitefield</th>\n",
              "      <td>1891</td>\n",
              "      <td>253</td>\n",
              "    </tr>\n",
              "    <tr>\n",
              "      <th>others</th>\n",
              "      <td>4352</td>\n",
              "      <td>355</td>\n",
              "    </tr>\n",
              "  </tbody>\n",
              "</table>\n",
              "</div>"
            ],
            "text/plain": [
              "book_table               No  Yes\n",
              "location                        \n",
              "BTM                    4977  168\n",
              "Banashankari            842   64\n",
              "Banaswadi               656    8\n",
              "Bannerghatta Road      1531   99\n",
              "Basavanagudi            668   16\n",
              "Bellandur              1188   98\n",
              "Brigade Road           1039  179\n",
              "Brookefield             584   74\n",
              "Church Street           387  182\n",
              "Commercial Street       370    0\n",
              "Cunningham Road         316  175\n",
              "Domlur                  441   55\n",
              "Ejipura                 439    0\n",
              "Electronic City        1159   99\n",
              "Frazer Town             719    8\n",
              "HSR                    2306  217\n",
              "Indiranagar            1629  454\n",
              "JP Nagar               1920  315\n",
              "Jayanagar              1647  279\n",
              "Kalyan Nagar            704  149\n",
              "Kammanahalli            599   49\n",
              "Koramangala 1st Block  1188   50\n",
              "Koramangala 4th Block   695  322\n",
              "Koramangala 5th Block  1812  692\n",
              "Koramangala 6th Block  1043  113\n",
              "Koramangala 7th Block  1017  164\n",
              "Koramangala 8th Block   303   17\n",
              "Lavelle Road            297  232\n",
              "MG Road                 571  347\n",
              "Malleshwaram            636   89\n",
              "Marathahalli           1680  166\n",
              "New BEL Road            593   56\n",
              "Old Airport Road        387   59\n",
              "Rajajinagar             550   41\n",
              "Residency Road          524  151\n",
              "Richmond Road           696  116\n",
              "Sarjapur Road           909  156\n",
              "Shanti Nagar            453   58\n",
              "Shivajinagar            476   23\n",
              "St. Marks Road          228  124\n",
              "Ulsoor                  846  177\n",
              "Whitefield             1891  253\n",
              "others                 4352  355"
            ]
          },
          "execution_count": 554,
          "metadata": {},
          "output_type": "execute_result"
        }
      ],
      "source": [
        "# Group by location and online_order and count the names\n",
        "df2 = zomatoB.groupby([\"location\", \"book_table\"])[\"name\"].count()\n",
        "\n",
        "# Save the grouped data to a CSV file\n",
        "df2.to_csv(\"location_book_table.csv\")\n",
        "\n",
        "# Read the CSV file\n",
        "df2 = pd.read_csv(\"location_book_table.csv\")\n",
        "\n",
        "# Pivot the table to make 'online_order' a column\n",
        "df2_pivot = pd.pivot_table(df, values=\"name\", index=[\"location\"], columns=[\"book_table\"], fill_value=0, aggfunc=np.sum)\n",
        "\n",
        "# Show the pivot table\n",
        "df2_pivot\n"
      ]
    },
    {
      "cell_type": "code",
      "execution_count": null,
      "id": "81384f8a-93d4-4b91-b6c0-3124a6fb05f9",
      "metadata": {
        "id": "81384f8a-93d4-4b91-b6c0-3124a6fb05f9",
        "outputId": "7c09e4a7-497d-4216-841f-ae44d406d672"
      },
      "outputs": [
        {
          "data": {
            "image/png": "[encoded data removed]",
            "text/plain": [
              "<Figure size 1500x800 with 1 Axes>"
            ]
          },
          "metadata": {},
          "output_type": "display_data"
        }
      ],
      "source": [
        "df2_pivot.plot(kind=\"bar\",figsize=(15,8))\n",
        "plt.show()"
      ]
    },
    {
      "cell_type": "code",
      "execution_count": null,
      "id": "27b2ba81-571c-40b9-8253-22d11c7a4a3b",
      "metadata": {
        "id": "27b2ba81-571c-40b9-8253-22d11c7a4a3b",
        "outputId": "2ea36481-5671-40bd-b02a-c1f8c24e3bcc"
      },
      "outputs": [
        {
          "data": {
            "text/plain": [
              "<Axes: xlabel='type', ylabel='rate'>"
            ]
          },
          "execution_count": 558,
          "metadata": {},
          "output_type": "execute_result"
        },
        {
          "data": {
            "image/png": "[encoded data removed]",
            "text/plain": [
              "<Figure size 1800x600 with 1 Axes>"
            ]
          },
          "metadata": {},
          "output_type": "display_data"
        }
      ],
      "source": [
        "plt.figure(figsize=(18,6))\n",
        "sns.boxplot(x = \"type\", y= \"rate\",data=zomatoB)"
      ]
    },
    {
      "cell_type": "code",
      "execution_count": null,
      "id": "723e6b39-0f7c-42e0-a124-dfb8247b3433",
      "metadata": {
        "id": "723e6b39-0f7c-42e0-a124-dfb8247b3433",
        "outputId": "93c4a5dd-7443-4463-82ef-b2705e18cca8"
      },
      "outputs": [
        {
          "name": "stderr",
          "output_type": "stream",
          "text": [
            "C:\\Users\\HP\\AppData\\Local\\Temp\\ipykernel_11180\\539160623.py:11: FutureWarning: The provided callable <function sum at 0x0000023786274900> is currently using DataFrameGroupBy.sum. In a future version of pandas, the provided callable will be used directly. To keep current behavior pass the string \"sum\" instead.\n",
            "  df3_pivot = pd.pivot_table(df3, values= None, index=[\"location\"], columns=[\"type\"], fill_value=0, aggfunc=np.sum)\n"
          ]
        },
        {
          "data": {
            "text/html": [
              "<div>\n",
              "<style scoped>\n",
              "    .dataframe tbody tr th:only-of-type {\n",
              "        vertical-align: middle;\n",
              "    }\n",
              "\n",
              "    .dataframe tbody tr th {\n",
              "        vertical-align: top;\n",
              "    }\n",
              "\n",
              "    .dataframe thead tr th {\n",
              "        text-align: left;\n",
              "    }\n",
              "\n",
              "    .dataframe thead tr:last-of-type th {\n",
              "        text-align: right;\n",
              "    }\n",
              "</style>\n",
              "<table border=\"1\" class=\"dataframe\">\n",
              "  <thead>\n",
              "    <tr>\n",
              "      <th></th>\n",
              "      <th colspan=\"7\" halign=\"left\">name</th>\n",
              "    </tr>\n",
              "    <tr>\n",
              "      <th>type</th>\n",
              "      <th>Buffet</th>\n",
              "      <th>Cafes</th>\n",
              "      <th>Delivery</th>\n",
              "      <th>Desserts</th>\n",
              "      <th>Dine-out</th>\n",
              "      <th>Drinks &amp; nightlife</th>\n",
              "      <th>Pubs and bars</th>\n",
              "    </tr>\n",
              "    <tr>\n",
              "      <th>location</th>\n",
              "      <th></th>\n",
              "      <th></th>\n",
              "      <th></th>\n",
              "      <th></th>\n",
              "      <th></th>\n",
              "      <th></th>\n",
              "      <th></th>\n",
              "    </tr>\n",
              "  </thead>\n",
              "  <tbody>\n",
              "    <tr>\n",
              "      <th>BTM</th>\n",
              "      <td>29</td>\n",
              "      <td>84</td>\n",
              "      <td>3104</td>\n",
              "      <td>202</td>\n",
              "      <td>1685</td>\n",
              "      <td>22</td>\n",
              "      <td>19</td>\n",
              "    </tr>\n",
              "    <tr>\n",
              "      <th>Banashankari</th>\n",
              "      <td>7</td>\n",
              "      <td>36</td>\n",
              "      <td>420</td>\n",
              "      <td>71</td>\n",
              "      <td>358</td>\n",
              "      <td>14</td>\n",
              "      <td>0</td>\n",
              "    </tr>\n",
              "    <tr>\n",
              "      <th>Banaswadi</th>\n",
              "      <td>0</td>\n",
              "      <td>24</td>\n",
              "      <td>323</td>\n",
              "      <td>37</td>\n",
              "      <td>273</td>\n",
              "      <td>6</td>\n",
              "      <td>1</td>\n",
              "    </tr>\n",
              "    <tr>\n",
              "      <th>Bannerghatta Road</th>\n",
              "      <td>9</td>\n",
              "      <td>46</td>\n",
              "      <td>842</td>\n",
              "      <td>137</td>\n",
              "      <td>585</td>\n",
              "      <td>9</td>\n",
              "      <td>2</td>\n",
              "    </tr>\n",
              "    <tr>\n",
              "      <th>Basavanagudi</th>\n",
              "      <td>7</td>\n",
              "      <td>11</td>\n",
              "      <td>344</td>\n",
              "      <td>66</td>\n",
              "      <td>251</td>\n",
              "      <td>5</td>\n",
              "      <td>0</td>\n",
              "    </tr>\n",
              "    <tr>\n",
              "      <th>Bellandur</th>\n",
              "      <td>28</td>\n",
              "      <td>36</td>\n",
              "      <td>627</td>\n",
              "      <td>77</td>\n",
              "      <td>485</td>\n",
              "      <td>17</td>\n",
              "      <td>16</td>\n",
              "    </tr>\n",
              "    <tr>\n",
              "      <th>Brigade Road</th>\n",
              "      <td>25</td>\n",
              "      <td>46</td>\n",
              "      <td>504</td>\n",
              "      <td>108</td>\n",
              "      <td>455</td>\n",
              "      <td>58</td>\n",
              "      <td>22</td>\n",
              "    </tr>\n",
              "    <tr>\n",
              "      <th>Brookefield</th>\n",
              "      <td>6</td>\n",
              "      <td>17</td>\n",
              "      <td>340</td>\n",
              "      <td>45</td>\n",
              "      <td>246</td>\n",
              "      <td>4</td>\n",
              "      <td>0</td>\n",
              "    </tr>\n",
              "    <tr>\n",
              "      <th>Church Street</th>\n",
              "      <td>19</td>\n",
              "      <td>51</td>\n",
              "      <td>196</td>\n",
              "      <td>29</td>\n",
              "      <td>215</td>\n",
              "      <td>36</td>\n",
              "      <td>23</td>\n",
              "    </tr>\n",
              "    <tr>\n",
              "      <th>Commercial Street</th>\n",
              "      <td>0</td>\n",
              "      <td>13</td>\n",
              "      <td>121</td>\n",
              "      <td>77</td>\n",
              "      <td>159</td>\n",
              "      <td>0</td>\n",
              "      <td>0</td>\n",
              "    </tr>\n",
              "    <tr>\n",
              "      <th>Cunningham Road</th>\n",
              "      <td>29</td>\n",
              "      <td>34</td>\n",
              "      <td>195</td>\n",
              "      <td>26</td>\n",
              "      <td>184</td>\n",
              "      <td>16</td>\n",
              "      <td>7</td>\n",
              "    </tr>\n",
              "    <tr>\n",
              "      <th>Domlur</th>\n",
              "      <td>15</td>\n",
              "      <td>17</td>\n",
              "      <td>261</td>\n",
              "      <td>35</td>\n",
              "      <td>144</td>\n",
              "      <td>12</td>\n",
              "      <td>12</td>\n",
              "    </tr>\n",
              "    <tr>\n",
              "      <th>Ejipura</th>\n",
              "      <td>0</td>\n",
              "      <td>0</td>\n",
              "      <td>251</td>\n",
              "      <td>16</td>\n",
              "      <td>172</td>\n",
              "      <td>0</td>\n",
              "      <td>0</td>\n",
              "    </tr>\n",
              "    <tr>\n",
              "      <th>Electronic City</th>\n",
              "      <td>23</td>\n",
              "      <td>24</td>\n",
              "      <td>577</td>\n",
              "      <td>71</td>\n",
              "      <td>521</td>\n",
              "      <td>21</td>\n",
              "      <td>21</td>\n",
              "    </tr>\n",
              "    <tr>\n",
              "      <th>Frazer Town</th>\n",
              "      <td>1</td>\n",
              "      <td>11</td>\n",
              "      <td>481</td>\n",
              "      <td>56</td>\n",
              "      <td>174</td>\n",
              "      <td>2</td>\n",
              "      <td>2</td>\n",
              "    </tr>\n",
              "    <tr>\n",
              "      <th>HSR</th>\n",
              "      <td>19</td>\n",
              "      <td>49</td>\n",
              "      <td>1716</td>\n",
              "      <td>123</td>\n",
              "      <td>584</td>\n",
              "      <td>14</td>\n",
              "      <td>18</td>\n",
              "    </tr>\n",
              "    <tr>\n",
              "      <th>Indiranagar</th>\n",
              "      <td>38</td>\n",
              "      <td>100</td>\n",
              "      <td>1118</td>\n",
              "      <td>146</td>\n",
              "      <td>543</td>\n",
              "      <td>69</td>\n",
              "      <td>69</td>\n",
              "    </tr>\n",
              "    <tr>\n",
              "      <th>JP Nagar</th>\n",
              "      <td>45</td>\n",
              "      <td>76</td>\n",
              "      <td>1160</td>\n",
              "      <td>166</td>\n",
              "      <td>730</td>\n",
              "      <td>51</td>\n",
              "      <td>7</td>\n",
              "    </tr>\n",
              "    <tr>\n",
              "      <th>Jayanagar</th>\n",
              "      <td>27</td>\n",
              "      <td>77</td>\n",
              "      <td>1049</td>\n",
              "      <td>182</td>\n",
              "      <td>579</td>\n",
              "      <td>12</td>\n",
              "      <td>0</td>\n",
              "    </tr>\n",
              "    <tr>\n",
              "      <th>Kalyan Nagar</th>\n",
              "      <td>9</td>\n",
              "      <td>45</td>\n",
              "      <td>370</td>\n",
              "      <td>88</td>\n",
              "      <td>323</td>\n",
              "      <td>18</td>\n",
              "      <td>0</td>\n",
              "    </tr>\n",
              "    <tr>\n",
              "      <th>Kammanahalli</th>\n",
              "      <td>2</td>\n",
              "      <td>27</td>\n",
              "      <td>333</td>\n",
              "      <td>35</td>\n",
              "      <td>245</td>\n",
              "      <td>6</td>\n",
              "      <td>0</td>\n",
              "    </tr>\n",
              "    <tr>\n",
              "      <th>Koramangala 1st Block</th>\n",
              "      <td>3</td>\n",
              "      <td>26</td>\n",
              "      <td>718</td>\n",
              "      <td>70</td>\n",
              "      <td>398</td>\n",
              "      <td>7</td>\n",
              "      <td>16</td>\n",
              "    </tr>\n",
              "    <tr>\n",
              "      <th>Koramangala 4th Block</th>\n",
              "      <td>21</td>\n",
              "      <td>53</td>\n",
              "      <td>464</td>\n",
              "      <td>81</td>\n",
              "      <td>302</td>\n",
              "      <td>62</td>\n",
              "      <td>34</td>\n",
              "    </tr>\n",
              "    <tr>\n",
              "      <th>Koramangala 5th Block</th>\n",
              "      <td>65</td>\n",
              "      <td>151</td>\n",
              "      <td>1083</td>\n",
              "      <td>210</td>\n",
              "      <td>853</td>\n",
              "      <td>84</td>\n",
              "      <td>58</td>\n",
              "    </tr>\n",
              "    <tr>\n",
              "      <th>Koramangala 6th Block</th>\n",
              "      <td>18</td>\n",
              "      <td>43</td>\n",
              "      <td>528</td>\n",
              "      <td>70</td>\n",
              "      <td>423</td>\n",
              "      <td>51</td>\n",
              "      <td>23</td>\n",
              "    </tr>\n",
              "    <tr>\n",
              "      <th>Koramangala 7th Block</th>\n",
              "      <td>25</td>\n",
              "      <td>52</td>\n",
              "      <td>509</td>\n",
              "      <td>127</td>\n",
              "      <td>417</td>\n",
              "      <td>25</td>\n",
              "      <td>26</td>\n",
              "    </tr>\n",
              "    <tr>\n",
              "      <th>Koramangala 8th Block</th>\n",
              "      <td>0</td>\n",
              "      <td>10</td>\n",
              "      <td>213</td>\n",
              "      <td>28</td>\n",
              "      <td>67</td>\n",
              "      <td>0</td>\n",
              "      <td>2</td>\n",
              "    </tr>\n",
              "    <tr>\n",
              "      <th>Lavelle Road</th>\n",
              "      <td>30</td>\n",
              "      <td>27</td>\n",
              "      <td>131</td>\n",
              "      <td>50</td>\n",
              "      <td>195</td>\n",
              "      <td>61</td>\n",
              "      <td>35</td>\n",
              "    </tr>\n",
              "    <tr>\n",
              "      <th>MG Road</th>\n",
              "      <td>51</td>\n",
              "      <td>78</td>\n",
              "      <td>272</td>\n",
              "      <td>73</td>\n",
              "      <td>349</td>\n",
              "      <td>57</td>\n",
              "      <td>38</td>\n",
              "    </tr>\n",
              "    <tr>\n",
              "      <th>Malleshwaram</th>\n",
              "      <td>11</td>\n",
              "      <td>31</td>\n",
              "      <td>272</td>\n",
              "      <td>85</td>\n",
              "      <td>292</td>\n",
              "      <td>20</td>\n",
              "      <td>14</td>\n",
              "    </tr>\n",
              "    <tr>\n",
              "      <th>Marathahalli</th>\n",
              "      <td>37</td>\n",
              "      <td>32</td>\n",
              "      <td>995</td>\n",
              "      <td>107</td>\n",
              "      <td>644</td>\n",
              "      <td>26</td>\n",
              "      <td>5</td>\n",
              "    </tr>\n",
              "    <tr>\n",
              "      <th>New BEL Road</th>\n",
              "      <td>4</td>\n",
              "      <td>29</td>\n",
              "      <td>341</td>\n",
              "      <td>34</td>\n",
              "      <td>225</td>\n",
              "      <td>8</td>\n",
              "      <td>8</td>\n",
              "    </tr>\n",
              "    <tr>\n",
              "      <th>Old Airport Road</th>\n",
              "      <td>12</td>\n",
              "      <td>5</td>\n",
              "      <td>204</td>\n",
              "      <td>37</td>\n",
              "      <td>167</td>\n",
              "      <td>12</td>\n",
              "      <td>9</td>\n",
              "    </tr>\n",
              "    <tr>\n",
              "      <th>Rajajinagar</th>\n",
              "      <td>10</td>\n",
              "      <td>4</td>\n",
              "      <td>258</td>\n",
              "      <td>55</td>\n",
              "      <td>251</td>\n",
              "      <td>3</td>\n",
              "      <td>10</td>\n",
              "    </tr>\n",
              "    <tr>\n",
              "      <th>Residency Road</th>\n",
              "      <td>20</td>\n",
              "      <td>31</td>\n",
              "      <td>188</td>\n",
              "      <td>63</td>\n",
              "      <td>291</td>\n",
              "      <td>56</td>\n",
              "      <td>26</td>\n",
              "    </tr>\n",
              "    <tr>\n",
              "      <th>Richmond Road</th>\n",
              "      <td>63</td>\n",
              "      <td>25</td>\n",
              "      <td>258</td>\n",
              "      <td>78</td>\n",
              "      <td>360</td>\n",
              "      <td>16</td>\n",
              "      <td>12</td>\n",
              "    </tr>\n",
              "    <tr>\n",
              "      <th>Sarjapur Road</th>\n",
              "      <td>26</td>\n",
              "      <td>23</td>\n",
              "      <td>565</td>\n",
              "      <td>83</td>\n",
              "      <td>326</td>\n",
              "      <td>20</td>\n",
              "      <td>22</td>\n",
              "    </tr>\n",
              "    <tr>\n",
              "      <th>Shanti Nagar</th>\n",
              "      <td>9</td>\n",
              "      <td>22</td>\n",
              "      <td>201</td>\n",
              "      <td>39</td>\n",
              "      <td>229</td>\n",
              "      <td>9</td>\n",
              "      <td>2</td>\n",
              "    </tr>\n",
              "    <tr>\n",
              "      <th>Shivajinagar</th>\n",
              "      <td>6</td>\n",
              "      <td>17</td>\n",
              "      <td>144</td>\n",
              "      <td>37</td>\n",
              "      <td>280</td>\n",
              "      <td>7</td>\n",
              "      <td>8</td>\n",
              "    </tr>\n",
              "    <tr>\n",
              "      <th>St. Marks Road</th>\n",
              "      <td>5</td>\n",
              "      <td>10</td>\n",
              "      <td>115</td>\n",
              "      <td>10</td>\n",
              "      <td>150</td>\n",
              "      <td>40</td>\n",
              "      <td>22</td>\n",
              "    </tr>\n",
              "    <tr>\n",
              "      <th>Ulsoor</th>\n",
              "      <td>16</td>\n",
              "      <td>56</td>\n",
              "      <td>468</td>\n",
              "      <td>71</td>\n",
              "      <td>359</td>\n",
              "      <td>23</td>\n",
              "      <td>30</td>\n",
              "    </tr>\n",
              "    <tr>\n",
              "      <th>Whitefield</th>\n",
              "      <td>28</td>\n",
              "      <td>51</td>\n",
              "      <td>1068</td>\n",
              "      <td>139</td>\n",
              "      <td>778</td>\n",
              "      <td>47</td>\n",
              "      <td>33</td>\n",
              "    </tr>\n",
              "    <tr>\n",
              "      <th>others</th>\n",
              "      <td>84</td>\n",
              "      <td>123</td>\n",
              "      <td>2615</td>\n",
              "      <td>253</td>\n",
              "      <td>1512</td>\n",
              "      <td>75</td>\n",
              "      <td>45</td>\n",
              "    </tr>\n",
              "  </tbody>\n",
              "</table>\n",
              "</div>"
            ],
            "text/plain": [
              "                        name                                   \\\n",
              "type                  Buffet Cafes Delivery Desserts Dine-out   \n",
              "location                                                        \n",
              "BTM                       29    84     3104      202     1685   \n",
              "Banashankari               7    36      420       71      358   \n",
              "Banaswadi                  0    24      323       37      273   \n",
              "Bannerghatta Road          9    46      842      137      585   \n",
              "Basavanagudi               7    11      344       66      251   \n",
              "Bellandur                 28    36      627       77      485   \n",
              "Brigade Road              25    46      504      108      455   \n",
              "Brookefield                6    17      340       45      246   \n",
              "Church Street             19    51      196       29      215   \n",
              "Commercial Street          0    13      121       77      159   \n",
              "Cunningham Road           29    34      195       26      184   \n",
              "Domlur                    15    17      261       35      144   \n",
              "Ejipura                    0     0      251       16      172   \n",
              "Electronic City           23    24      577       71      521   \n",
              "Frazer Town                1    11      481       56      174   \n",
              "HSR                       19    49     1716      123      584   \n",
              "Indiranagar               38   100     1118      146      543   \n",
              "JP Nagar                  45    76     1160      166      730   \n",
              "Jayanagar                 27    77     1049      182      579   \n",
              "Kalyan Nagar               9    45      370       88      323   \n",
              "Kammanahalli               2    27      333       35      245   \n",
              "Koramangala 1st Block      3    26      718       70      398   \n",
              "Koramangala 4th Block     21    53      464       81      302   \n",
              "Koramangala 5th Block     65   151     1083      210      853   \n",
              "Koramangala 6th Block     18    43      528       70      423   \n",
              "Koramangala 7th Block     25    52      509      127      417   \n",
              "Koramangala 8th Block      0    10      213       28       67   \n",
              "Lavelle Road              30    27      131       50      195   \n",
              "MG Road                   51    78      272       73      349   \n",
              "Malleshwaram              11    31      272       85      292   \n",
              "Marathahalli              37    32      995      107      644   \n",
              "New BEL Road               4    29      341       34      225   \n",
              "Old Airport Road          12     5      204       37      167   \n",
              "Rajajinagar               10     4      258       55      251   \n",
              "Residency Road            20    31      188       63      291   \n",
              "Richmond Road             63    25      258       78      360   \n",
              "Sarjapur Road             26    23      565       83      326   \n",
              "Shanti Nagar               9    22      201       39      229   \n",
              "Shivajinagar               6    17      144       37      280   \n",
              "St. Marks Road             5    10      115       10      150   \n",
              "Ulsoor                    16    56      468       71      359   \n",
              "Whitefield                28    51     1068      139      778   \n",
              "others                    84   123     2615      253     1512   \n",
              "\n",
              "                                                        \n",
              "type                  Drinks & nightlife Pubs and bars  \n",
              "location                                                \n",
              "BTM                                   22            19  \n",
              "Banashankari                          14             0  \n",
              "Banaswadi                              6             1  \n",
              "Bannerghatta Road                      9             2  \n",
              "Basavanagudi                           5             0  \n",
              "Bellandur                             17            16  \n",
              "Brigade Road                          58            22  \n",
              "Brookefield                            4             0  \n",
              "Church Street                         36            23  \n",
              "Commercial Street                      0             0  \n",
              "Cunningham Road                       16             7  \n",
              "Domlur                                12            12  \n",
              "Ejipura                                0             0  \n",
              "Electronic City                       21            21  \n",
              "Frazer Town                            2             2  \n",
              "HSR                                   14            18  \n",
              "Indiranagar                           69            69  \n",
              "JP Nagar                              51             7  \n",
              "Jayanagar                             12             0  \n",
              "Kalyan Nagar                          18             0  \n",
              "Kammanahalli                           6             0  \n",
              "Koramangala 1st Block                  7            16  \n",
              "Koramangala 4th Block                 62            34  \n",
              "Koramangala 5th Block                 84            58  \n",
              "Koramangala 6th Block                 51            23  \n",
              "Koramangala 7th Block                 25            26  \n",
              "Koramangala 8th Block                  0             2  \n",
              "Lavelle Road                          61            35  \n",
              "MG Road                               57            38  \n",
              "Malleshwaram                          20            14  \n",
              "Marathahalli                          26             5  \n",
              "New BEL Road                           8             8  \n",
              "Old Airport Road                      12             9  \n",
              "Rajajinagar                            3            10  \n",
              "Residency Road                        56            26  \n",
              "Richmond Road                         16            12  \n",
              "Sarjapur Road                         20            22  \n",
              "Shanti Nagar                           9             2  \n",
              "Shivajinagar                           7             8  \n",
              "St. Marks Road                        40            22  \n",
              "Ulsoor                                23            30  \n",
              "Whitefield                            47            33  \n",
              "others                                75            45  "
            ]
          },
          "execution_count": 582,
          "metadata": {},
          "output_type": "execute_result"
        }
      ],
      "source": [
        "\n",
        "# Group by location and type and count the names\n",
        "df3 = zomatoB.groupby([\"location\", \"type\"])[\"name\"].count()\n",
        "\n",
        "# Save the grouped data to a CSV file\n",
        "df3.to_csv(\"location_type.csv\")\n",
        "\n",
        "# Read the CSV file\n",
        "df3 = pd.read_csv(\"location_type.csv\")\n",
        "\n",
        "# Pivot the table to make 'type' a column\n",
        "df3_pivot = pd.pivot_table(df3, values= None, index=[\"location\"], columns=[\"type\"], fill_value=0, aggfunc=np.sum)\n",
        "\n",
        "# Show the pivot table\n",
        "df3_pivot\n"
      ]
    },
    {
      "cell_type": "code",
      "execution_count": null,
      "id": "e3529ec4-5dcc-45cf-ba8b-183e49aff71d",
      "metadata": {
        "id": "e3529ec4-5dcc-45cf-ba8b-183e49aff71d",
        "outputId": "9439d64f-5036-4843-eef0-7776816e61a9"
      },
      "outputs": [
        {
          "data": {
            "image/png": "[encoded data removed]",
            "text/plain": [
              "<Figure size 3600x600 with 1 Axes>"
            ]
          },
          "metadata": {},
          "output_type": "display_data"
        }
      ],
      "source": [
        "df3.plot(kind =\"bar\",figsize = (36,6) )\n",
        "plt.show()\n"
      ]
    },
    {
      "cell_type": "code",
      "execution_count": null,
      "id": "372907ab-1496-46da-9a4d-554b68ac8482",
      "metadata": {
        "id": "372907ab-1496-46da-9a4d-554b68ac8482"
      },
      "outputs": [],
      "source": []
    }
  ],
  "metadata": {
    "kernelspec": {
      "display_name": "Python 3 (ipykernel)",
      "language": "python",
      "name": "python3"
    },
    "language_info": {
      "codemirror_mode": {
        "name": "ipython",
        "version": 3
      },
      "file_extension": ".py",
      "mimetype": "text/x-python",
      "name": "python",
      "nbconvert_exporter": "python",
      "pygments_lexer": "ipython3",
      "version": "3.12.4"
    },
    "colab": {
      "provenance": [],
      "include_colab_link": true
    }
  },
  "nbformat": 4,
  "nbformat_minor": 5
}